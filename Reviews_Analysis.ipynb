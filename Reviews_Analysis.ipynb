{
 "cells": [
  {
   "cell_type": "code",
   "execution_count": 40,
   "id": "989ca3a0",
   "metadata": {},
   "outputs": [],
   "source": [
    "import pandas as pd\n",
    "import numpy as np"
   ]
  },
  {
   "cell_type": "code",
   "execution_count": 41,
   "id": "8bbdd848",
   "metadata": {},
   "outputs": [],
   "source": [
    "import seaborn as sns\n",
    "import matplotlib.pyplot as plt\n",
    "%matplotlib inline"
   ]
  },
  {
   "cell_type": "code",
   "execution_count": 42,
   "id": "a1027bc7",
   "metadata": {},
   "outputs": [],
   "source": [
    "from datetime import datetime, timedelta\n",
    "from dateutil import relativedelta"
   ]
  },
  {
   "cell_type": "code",
   "execution_count": 45,
   "id": "778862f7",
   "metadata": {},
   "outputs": [],
   "source": [
    "df = pd.read_csv(\"Smoke_House_Google_Reviews.csv\")"
   ]
  },
  {
   "cell_type": "code",
   "execution_count": 46,
   "id": "5af9dcc0",
   "metadata": {},
   "outputs": [
    {
     "data": {
      "text/html": [
       "<div>\n",
       "<style scoped>\n",
       "    .dataframe tbody tr th:only-of-type {\n",
       "        vertical-align: middle;\n",
       "    }\n",
       "\n",
       "    .dataframe tbody tr th {\n",
       "        vertical-align: top;\n",
       "    }\n",
       "\n",
       "    .dataframe thead th {\n",
       "        text-align: right;\n",
       "    }\n",
       "</style>\n",
       "<table border=\"1\" class=\"dataframe\">\n",
       "  <thead>\n",
       "    <tr style=\"text-align: right;\">\n",
       "      <th></th>\n",
       "      <th>query</th>\n",
       "      <th>name</th>\n",
       "      <th>google_id</th>\n",
       "      <th>place_id</th>\n",
       "      <th>location_link</th>\n",
       "      <th>reviews_link</th>\n",
       "      <th>reviews_per_score</th>\n",
       "      <th>reviews</th>\n",
       "      <th>rating</th>\n",
       "      <th>review_id</th>\n",
       "      <th>...</th>\n",
       "      <th>review_img_url</th>\n",
       "      <th>owner_answer</th>\n",
       "      <th>owner_answer_timestamp</th>\n",
       "      <th>owner_answer_timestamp_datetime_utc</th>\n",
       "      <th>review_link</th>\n",
       "      <th>review_rating</th>\n",
       "      <th>review_timestamp</th>\n",
       "      <th>review_datetime_utc</th>\n",
       "      <th>review_likes</th>\n",
       "      <th>reviews_id</th>\n",
       "    </tr>\n",
       "  </thead>\n",
       "  <tbody>\n",
       "    <tr>\n",
       "      <th>0</th>\n",
       "      <td>https://www.google.com/maps/place/The+Ranch+Smokehouse/@41.3868159,2.1654616,17z/data=!3m2!4b1!5s0x12a4a2f4b7816a4d:0x89102bd4e3f4b709!4m10!1m3!8m2!1e1!2s101744919831405152114!3m5!1s0x12a4a30de709afd7:0xd14851da77cc62cd!8m2!3d41.3868159!4d2.1676503!16s%2Fg%2F11fkd1dtyr</td>\n",
       "      <td>The Ranch Smokehouse</td>\n",
       "      <td>0x12a4a30de709afd7:0xd14851da77cc62cd</td>\n",
       "      <td>ChIJ168J5w2jpBIRzWLMd9pRSNE</td>\n",
       "      <td>https://www.google.com/maps/place/The+Ranch+Smokehouse/@41.386815899999995,2.1676503,14z/data=!4m8!1m2!2m1!1sThe+Ranch+Smokehouse!3m4!1s0x12a4a30de709afd7:0xd14851da77cc62cd!8m2!3d41.386815899999995!4d2.1676503</td>\n",
       "      <td>https://search.google.com/local/reviews?placeid=ChIJ168J5w2jpBIRzWLMd9pRSNE&amp;q=The+Ranch+Smokehouse&amp;authuser=0&amp;hl=en&amp;gl=UA</td>\n",
       "      <td>{\"1\": 82, \"2\": 49, \"3\": 116, \"4\": 350, \"5\": 1125}</td>\n",
       "      <td>1722</td>\n",
       "      <td>4.4</td>\n",
       "      <td>ChZDSUhNMG9nS0VJQ0FnSUR1Z2FITEtnEAE</td>\n",
       "      <td>...</td>\n",
       "      <td>https://lh5.googleusercontent.com/p/AF1QipM_O-GuF0Oqy1XEFpau76w5G9BZExVgOLXZEtJb</td>\n",
       "      <td>NaN</td>\n",
       "      <td>NaN</td>\n",
       "      <td>NaN</td>\n",
       "      <td>https://www.google.com/maps/reviews/data=!4m8!14m7!1m6!2m5!1sChZDSUhNMG9nS0VJQ0FnSUR1Z2FITEtnEAE!2m1!1s0x0:0xd14851da77cc62cd!3m1!1s2@1:CIHM0ogKEICAgIDugaHLKg%7CCgsIoZ2NmAYQsMbXEQ%7C?hl=en-US</td>\n",
       "      <td>5</td>\n",
       "      <td>1661161121</td>\n",
       "      <td>08/22/2022 09:38:41</td>\n",
       "      <td>0</td>\n",
       "      <td>-3366350722704842035</td>\n",
       "    </tr>\n",
       "    <tr>\n",
       "      <th>1</th>\n",
       "      <td>https://www.google.com/maps/place/The+Ranch+Smokehouse/@41.3868159,2.1654616,17z/data=!3m2!4b1!5s0x12a4a2f4b7816a4d:0x89102bd4e3f4b709!4m10!1m3!8m2!1e1!2s101744919831405152114!3m5!1s0x12a4a30de709afd7:0xd14851da77cc62cd!8m2!3d41.3868159!4d2.1676503!16s%2Fg%2F11fkd1dtyr</td>\n",
       "      <td>The Ranch Smokehouse</td>\n",
       "      <td>0x12a4a30de709afd7:0xd14851da77cc62cd</td>\n",
       "      <td>ChIJ168J5w2jpBIRzWLMd9pRSNE</td>\n",
       "      <td>https://www.google.com/maps/place/The+Ranch+Smokehouse/@41.386815899999995,2.1676503,14z/data=!4m8!1m2!2m1!1sThe+Ranch+Smokehouse!3m4!1s0x12a4a30de709afd7:0xd14851da77cc62cd!8m2!3d41.386815899999995!4d2.1676503</td>\n",
       "      <td>https://search.google.com/local/reviews?placeid=ChIJ168J5w2jpBIRzWLMd9pRSNE&amp;q=The+Ranch+Smokehouse&amp;authuser=0&amp;hl=en&amp;gl=UA</td>\n",
       "      <td>{\"1\": 82, \"2\": 49, \"3\": 116, \"4\": 350, \"5\": 1125}</td>\n",
       "      <td>1722</td>\n",
       "      <td>4.4</td>\n",
       "      <td>ChZDSUhNMG9nS0VJQ0FnSUR1X3ZmS05REAE</td>\n",
       "      <td>...</td>\n",
       "      <td>https://lh5.googleusercontent.com/p/AF1QipMl0H2YpmwHYqAPwrTd4Tz8cTbic-aWgL4FzArb</td>\n",
       "      <td>NaN</td>\n",
       "      <td>NaN</td>\n",
       "      <td>NaN</td>\n",
       "      <td>https://www.google.com/maps/reviews/data=!4m8!14m7!1m6!2m5!1sChZDSUhNMG9nS0VJQ0FnSUR1X3ZmS05REAE!2m1!1s0x0:0xd14851da77cc62cd!3m1!1s2@1:CIHM0ogKEICAgIDu_vfKNQ%7CCgwI6dmMmAYQsL7M2AE%7C?hl=en-US</td>\n",
       "      <td>5</td>\n",
       "      <td>1661152489</td>\n",
       "      <td>08/22/2022 07:14:49</td>\n",
       "      <td>1</td>\n",
       "      <td>-3366350722704842035</td>\n",
       "    </tr>\n",
       "    <tr>\n",
       "      <th>2</th>\n",
       "      <td>https://www.google.com/maps/place/The+Ranch+Smokehouse/@41.3868159,2.1654616,17z/data=!3m2!4b1!5s0x12a4a2f4b7816a4d:0x89102bd4e3f4b709!4m10!1m3!8m2!1e1!2s101744919831405152114!3m5!1s0x12a4a30de709afd7:0xd14851da77cc62cd!8m2!3d41.3868159!4d2.1676503!16s%2Fg%2F11fkd1dtyr</td>\n",
       "      <td>The Ranch Smokehouse</td>\n",
       "      <td>0x12a4a30de709afd7:0xd14851da77cc62cd</td>\n",
       "      <td>ChIJ168J5w2jpBIRzWLMd9pRSNE</td>\n",
       "      <td>https://www.google.com/maps/place/The+Ranch+Smokehouse/@41.386815899999995,2.1676503,14z/data=!4m8!1m2!2m1!1sThe+Ranch+Smokehouse!3m4!1s0x12a4a30de709afd7:0xd14851da77cc62cd!8m2!3d41.386815899999995!4d2.1676503</td>\n",
       "      <td>https://search.google.com/local/reviews?placeid=ChIJ168J5w2jpBIRzWLMd9pRSNE&amp;q=The+Ranch+Smokehouse&amp;authuser=0&amp;hl=en&amp;gl=UA</td>\n",
       "      <td>{\"1\": 82, \"2\": 49, \"3\": 116, \"4\": 350, \"5\": 1125}</td>\n",
       "      <td>1722</td>\n",
       "      <td>4.4</td>\n",
       "      <td>ChZDSUhNMG9nS0VJQ0FnSUR1dnRiV1RREAE</td>\n",
       "      <td>...</td>\n",
       "      <td>https://lh3.googleusercontent.com/a/AItbvmmuCg6P26Z5HkvQjYHsDUCny0y4VRFRvC2RSyfK</td>\n",
       "      <td>NaN</td>\n",
       "      <td>NaN</td>\n",
       "      <td>NaN</td>\n",
       "      <td>https://www.google.com/maps/reviews/data=!4m8!14m7!1m6!2m5!1sChZDSUhNMG9nS0VJQ0FnSUR1dnRiV1RREAE!2m1!1s0x0:0xd14851da77cc62cd!3m1!1s2@1:CIHM0ogKEICAgIDuvtbWTQ%7CCgwI5d6KmAYQ6JfioAE%7C?hl=en-US</td>\n",
       "      <td>4</td>\n",
       "      <td>1661120357</td>\n",
       "      <td>08/21/2022 22:19:17</td>\n",
       "      <td>0</td>\n",
       "      <td>-3366350722704842035</td>\n",
       "    </tr>\n",
       "    <tr>\n",
       "      <th>3</th>\n",
       "      <td>https://www.google.com/maps/place/The+Ranch+Smokehouse/@41.3868159,2.1654616,17z/data=!3m2!4b1!5s0x12a4a2f4b7816a4d:0x89102bd4e3f4b709!4m10!1m3!8m2!1e1!2s101744919831405152114!3m5!1s0x12a4a30de709afd7:0xd14851da77cc62cd!8m2!3d41.3868159!4d2.1676503!16s%2Fg%2F11fkd1dtyr</td>\n",
       "      <td>The Ranch Smokehouse</td>\n",
       "      <td>0x12a4a30de709afd7:0xd14851da77cc62cd</td>\n",
       "      <td>ChIJ168J5w2jpBIRzWLMd9pRSNE</td>\n",
       "      <td>https://www.google.com/maps/place/The+Ranch+Smokehouse/@41.386815899999995,2.1676503,14z/data=!4m8!1m2!2m1!1sThe+Ranch+Smokehouse!3m4!1s0x12a4a30de709afd7:0xd14851da77cc62cd!8m2!3d41.386815899999995!4d2.1676503</td>\n",
       "      <td>https://search.google.com/local/reviews?placeid=ChIJ168J5w2jpBIRzWLMd9pRSNE&amp;q=The+Ranch+Smokehouse&amp;authuser=0&amp;hl=en&amp;gl=UA</td>\n",
       "      <td>{\"1\": 82, \"2\": 49, \"3\": 116, \"4\": 350, \"5\": 1125}</td>\n",
       "      <td>1722</td>\n",
       "      <td>4.4</td>\n",
       "      <td>ChdDSUhNMG9nS0VJQ0FnSUR1dm9qYmtnRRAB</td>\n",
       "      <td>...</td>\n",
       "      <td>https://lh3.googleusercontent.com/a/AItbvmn-n3jXH3TpCOxwkMCb_TTfeWuGndhtls780Mh9</td>\n",
       "      <td>NaN</td>\n",
       "      <td>NaN</td>\n",
       "      <td>NaN</td>\n",
       "      <td>https://www.google.com/maps/reviews/data=!4m8!14m7!1m6!2m5!1sChdDSUhNMG9nS0VJQ0FnSUR1dm9qYmtnRRAB!2m1!1s0x0:0xd14851da77cc62cd!3m1!1s2@1:CIHM0ogKEICAgIDuvojbkgE%7CCgsIk66KmAYQuM6AaQ%7C?hl=en-US</td>\n",
       "      <td>5</td>\n",
       "      <td>1661114131</td>\n",
       "      <td>08/21/2022 20:35:31</td>\n",
       "      <td>1</td>\n",
       "      <td>-3366350722704842035</td>\n",
       "    </tr>\n",
       "    <tr>\n",
       "      <th>4</th>\n",
       "      <td>https://www.google.com/maps/place/The+Ranch+Smokehouse/@41.3868159,2.1654616,17z/data=!3m2!4b1!5s0x12a4a2f4b7816a4d:0x89102bd4e3f4b709!4m10!1m3!8m2!1e1!2s101744919831405152114!3m5!1s0x12a4a30de709afd7:0xd14851da77cc62cd!8m2!3d41.3868159!4d2.1676503!16s%2Fg%2F11fkd1dtyr</td>\n",
       "      <td>The Ranch Smokehouse</td>\n",
       "      <td>0x12a4a30de709afd7:0xd14851da77cc62cd</td>\n",
       "      <td>ChIJ168J5w2jpBIRzWLMd9pRSNE</td>\n",
       "      <td>https://www.google.com/maps/place/The+Ranch+Smokehouse/@41.386815899999995,2.1676503,14z/data=!4m8!1m2!2m1!1sThe+Ranch+Smokehouse!3m4!1s0x12a4a30de709afd7:0xd14851da77cc62cd!8m2!3d41.386815899999995!4d2.1676503</td>\n",
       "      <td>https://search.google.com/local/reviews?placeid=ChIJ168J5w2jpBIRzWLMd9pRSNE&amp;q=The+Ranch+Smokehouse&amp;authuser=0&amp;hl=en&amp;gl=UA</td>\n",
       "      <td>{\"1\": 82, \"2\": 49, \"3\": 116, \"4\": 350, \"5\": 1125}</td>\n",
       "      <td>1722</td>\n",
       "      <td>4.4</td>\n",
       "      <td>ChZDSUhNMG9nS0VJQ0FnSURTdXI2TEV3EAE</td>\n",
       "      <td>...</td>\n",
       "      <td>https://lh5.googleusercontent.com/p/AF1QipPQGLjd-WloBeNLBwX3ME7tOrkm5dlVbYgMaedJ</td>\n",
       "      <td>NaN</td>\n",
       "      <td>NaN</td>\n",
       "      <td>NaN</td>\n",
       "      <td>https://www.google.com/maps/reviews/data=!4m8!14m7!1m6!2m5!1sChZDSUhNMG9nS0VJQ0FnSURTdXI2TEV3EAE!2m1!1s0x0:0xd14851da77cc62cd!3m1!1s2@1:CIHM0ogKEICAgIDSur6LEw%7CCgwIga2JmAYQsLDc7QI%7C?hl=en-US</td>\n",
       "      <td>5</td>\n",
       "      <td>1661097601</td>\n",
       "      <td>08/21/2022 16:00:01</td>\n",
       "      <td>1</td>\n",
       "      <td>-3366350722704842035</td>\n",
       "    </tr>\n",
       "  </tbody>\n",
       "</table>\n",
       "<p>5 rows × 25 columns</p>\n",
       "</div>"
      ],
      "text/plain": [
       "                                                                                                                                                                                                                                                                           query  \\\n",
       "0  https://www.google.com/maps/place/The+Ranch+Smokehouse/@41.3868159,2.1654616,17z/data=!3m2!4b1!5s0x12a4a2f4b7816a4d:0x89102bd4e3f4b709!4m10!1m3!8m2!1e1!2s101744919831405152114!3m5!1s0x12a4a30de709afd7:0xd14851da77cc62cd!8m2!3d41.3868159!4d2.1676503!16s%2Fg%2F11fkd1dtyr   \n",
       "1  https://www.google.com/maps/place/The+Ranch+Smokehouse/@41.3868159,2.1654616,17z/data=!3m2!4b1!5s0x12a4a2f4b7816a4d:0x89102bd4e3f4b709!4m10!1m3!8m2!1e1!2s101744919831405152114!3m5!1s0x12a4a30de709afd7:0xd14851da77cc62cd!8m2!3d41.3868159!4d2.1676503!16s%2Fg%2F11fkd1dtyr   \n",
       "2  https://www.google.com/maps/place/The+Ranch+Smokehouse/@41.3868159,2.1654616,17z/data=!3m2!4b1!5s0x12a4a2f4b7816a4d:0x89102bd4e3f4b709!4m10!1m3!8m2!1e1!2s101744919831405152114!3m5!1s0x12a4a30de709afd7:0xd14851da77cc62cd!8m2!3d41.3868159!4d2.1676503!16s%2Fg%2F11fkd1dtyr   \n",
       "3  https://www.google.com/maps/place/The+Ranch+Smokehouse/@41.3868159,2.1654616,17z/data=!3m2!4b1!5s0x12a4a2f4b7816a4d:0x89102bd4e3f4b709!4m10!1m3!8m2!1e1!2s101744919831405152114!3m5!1s0x12a4a30de709afd7:0xd14851da77cc62cd!8m2!3d41.3868159!4d2.1676503!16s%2Fg%2F11fkd1dtyr   \n",
       "4  https://www.google.com/maps/place/The+Ranch+Smokehouse/@41.3868159,2.1654616,17z/data=!3m2!4b1!5s0x12a4a2f4b7816a4d:0x89102bd4e3f4b709!4m10!1m3!8m2!1e1!2s101744919831405152114!3m5!1s0x12a4a30de709afd7:0xd14851da77cc62cd!8m2!3d41.3868159!4d2.1676503!16s%2Fg%2F11fkd1dtyr   \n",
       "\n",
       "                   name                              google_id  \\\n",
       "0  The Ranch Smokehouse  0x12a4a30de709afd7:0xd14851da77cc62cd   \n",
       "1  The Ranch Smokehouse  0x12a4a30de709afd7:0xd14851da77cc62cd   \n",
       "2  The Ranch Smokehouse  0x12a4a30de709afd7:0xd14851da77cc62cd   \n",
       "3  The Ranch Smokehouse  0x12a4a30de709afd7:0xd14851da77cc62cd   \n",
       "4  The Ranch Smokehouse  0x12a4a30de709afd7:0xd14851da77cc62cd   \n",
       "\n",
       "                      place_id  \\\n",
       "0  ChIJ168J5w2jpBIRzWLMd9pRSNE   \n",
       "1  ChIJ168J5w2jpBIRzWLMd9pRSNE   \n",
       "2  ChIJ168J5w2jpBIRzWLMd9pRSNE   \n",
       "3  ChIJ168J5w2jpBIRzWLMd9pRSNE   \n",
       "4  ChIJ168J5w2jpBIRzWLMd9pRSNE   \n",
       "\n",
       "                                                                                                                                                                                                        location_link  \\\n",
       "0  https://www.google.com/maps/place/The+Ranch+Smokehouse/@41.386815899999995,2.1676503,14z/data=!4m8!1m2!2m1!1sThe+Ranch+Smokehouse!3m4!1s0x12a4a30de709afd7:0xd14851da77cc62cd!8m2!3d41.386815899999995!4d2.1676503   \n",
       "1  https://www.google.com/maps/place/The+Ranch+Smokehouse/@41.386815899999995,2.1676503,14z/data=!4m8!1m2!2m1!1sThe+Ranch+Smokehouse!3m4!1s0x12a4a30de709afd7:0xd14851da77cc62cd!8m2!3d41.386815899999995!4d2.1676503   \n",
       "2  https://www.google.com/maps/place/The+Ranch+Smokehouse/@41.386815899999995,2.1676503,14z/data=!4m8!1m2!2m1!1sThe+Ranch+Smokehouse!3m4!1s0x12a4a30de709afd7:0xd14851da77cc62cd!8m2!3d41.386815899999995!4d2.1676503   \n",
       "3  https://www.google.com/maps/place/The+Ranch+Smokehouse/@41.386815899999995,2.1676503,14z/data=!4m8!1m2!2m1!1sThe+Ranch+Smokehouse!3m4!1s0x12a4a30de709afd7:0xd14851da77cc62cd!8m2!3d41.386815899999995!4d2.1676503   \n",
       "4  https://www.google.com/maps/place/The+Ranch+Smokehouse/@41.386815899999995,2.1676503,14z/data=!4m8!1m2!2m1!1sThe+Ranch+Smokehouse!3m4!1s0x12a4a30de709afd7:0xd14851da77cc62cd!8m2!3d41.386815899999995!4d2.1676503   \n",
       "\n",
       "                                                                                                                reviews_link  \\\n",
       "0  https://search.google.com/local/reviews?placeid=ChIJ168J5w2jpBIRzWLMd9pRSNE&q=The+Ranch+Smokehouse&authuser=0&hl=en&gl=UA   \n",
       "1  https://search.google.com/local/reviews?placeid=ChIJ168J5w2jpBIRzWLMd9pRSNE&q=The+Ranch+Smokehouse&authuser=0&hl=en&gl=UA   \n",
       "2  https://search.google.com/local/reviews?placeid=ChIJ168J5w2jpBIRzWLMd9pRSNE&q=The+Ranch+Smokehouse&authuser=0&hl=en&gl=UA   \n",
       "3  https://search.google.com/local/reviews?placeid=ChIJ168J5w2jpBIRzWLMd9pRSNE&q=The+Ranch+Smokehouse&authuser=0&hl=en&gl=UA   \n",
       "4  https://search.google.com/local/reviews?placeid=ChIJ168J5w2jpBIRzWLMd9pRSNE&q=The+Ranch+Smokehouse&authuser=0&hl=en&gl=UA   \n",
       "\n",
       "                                   reviews_per_score  reviews  rating  \\\n",
       "0  {\"1\": 82, \"2\": 49, \"3\": 116, \"4\": 350, \"5\": 1125}     1722     4.4   \n",
       "1  {\"1\": 82, \"2\": 49, \"3\": 116, \"4\": 350, \"5\": 1125}     1722     4.4   \n",
       "2  {\"1\": 82, \"2\": 49, \"3\": 116, \"4\": 350, \"5\": 1125}     1722     4.4   \n",
       "3  {\"1\": 82, \"2\": 49, \"3\": 116, \"4\": 350, \"5\": 1125}     1722     4.4   \n",
       "4  {\"1\": 82, \"2\": 49, \"3\": 116, \"4\": 350, \"5\": 1125}     1722     4.4   \n",
       "\n",
       "                              review_id  ...  \\\n",
       "0   ChZDSUhNMG9nS0VJQ0FnSUR1Z2FITEtnEAE  ...   \n",
       "1   ChZDSUhNMG9nS0VJQ0FnSUR1X3ZmS05REAE  ...   \n",
       "2   ChZDSUhNMG9nS0VJQ0FnSUR1dnRiV1RREAE  ...   \n",
       "3  ChdDSUhNMG9nS0VJQ0FnSUR1dm9qYmtnRRAB  ...   \n",
       "4   ChZDSUhNMG9nS0VJQ0FnSURTdXI2TEV3EAE  ...   \n",
       "\n",
       "                                                                     review_img_url  \\\n",
       "0  https://lh5.googleusercontent.com/p/AF1QipM_O-GuF0Oqy1XEFpau76w5G9BZExVgOLXZEtJb   \n",
       "1  https://lh5.googleusercontent.com/p/AF1QipMl0H2YpmwHYqAPwrTd4Tz8cTbic-aWgL4FzArb   \n",
       "2  https://lh3.googleusercontent.com/a/AItbvmmuCg6P26Z5HkvQjYHsDUCny0y4VRFRvC2RSyfK   \n",
       "3  https://lh3.googleusercontent.com/a/AItbvmn-n3jXH3TpCOxwkMCb_TTfeWuGndhtls780Mh9   \n",
       "4  https://lh5.googleusercontent.com/p/AF1QipPQGLjd-WloBeNLBwX3ME7tOrkm5dlVbYgMaedJ   \n",
       "\n",
       "  owner_answer owner_answer_timestamp owner_answer_timestamp_datetime_utc  \\\n",
       "0          NaN                    NaN                                 NaN   \n",
       "1          NaN                    NaN                                 NaN   \n",
       "2          NaN                    NaN                                 NaN   \n",
       "3          NaN                    NaN                                 NaN   \n",
       "4          NaN                    NaN                                 NaN   \n",
       "\n",
       "                                                                                                                                                                                         review_link  \\\n",
       "0    https://www.google.com/maps/reviews/data=!4m8!14m7!1m6!2m5!1sChZDSUhNMG9nS0VJQ0FnSUR1Z2FITEtnEAE!2m1!1s0x0:0xd14851da77cc62cd!3m1!1s2@1:CIHM0ogKEICAgIDugaHLKg%7CCgsIoZ2NmAYQsMbXEQ%7C?hl=en-US   \n",
       "1   https://www.google.com/maps/reviews/data=!4m8!14m7!1m6!2m5!1sChZDSUhNMG9nS0VJQ0FnSUR1X3ZmS05REAE!2m1!1s0x0:0xd14851da77cc62cd!3m1!1s2@1:CIHM0ogKEICAgIDu_vfKNQ%7CCgwI6dmMmAYQsL7M2AE%7C?hl=en-US   \n",
       "2   https://www.google.com/maps/reviews/data=!4m8!14m7!1m6!2m5!1sChZDSUhNMG9nS0VJQ0FnSUR1dnRiV1RREAE!2m1!1s0x0:0xd14851da77cc62cd!3m1!1s2@1:CIHM0ogKEICAgIDuvtbWTQ%7CCgwI5d6KmAYQ6JfioAE%7C?hl=en-US   \n",
       "3  https://www.google.com/maps/reviews/data=!4m8!14m7!1m6!2m5!1sChdDSUhNMG9nS0VJQ0FnSUR1dm9qYmtnRRAB!2m1!1s0x0:0xd14851da77cc62cd!3m1!1s2@1:CIHM0ogKEICAgIDuvojbkgE%7CCgsIk66KmAYQuM6AaQ%7C?hl=en-US   \n",
       "4   https://www.google.com/maps/reviews/data=!4m8!14m7!1m6!2m5!1sChZDSUhNMG9nS0VJQ0FnSURTdXI2TEV3EAE!2m1!1s0x0:0xd14851da77cc62cd!3m1!1s2@1:CIHM0ogKEICAgIDSur6LEw%7CCgwIga2JmAYQsLDc7QI%7C?hl=en-US   \n",
       "\n",
       "  review_rating review_timestamp  review_datetime_utc review_likes  \\\n",
       "0             5       1661161121  08/22/2022 09:38:41            0   \n",
       "1             5       1661152489  08/22/2022 07:14:49            1   \n",
       "2             4       1661120357  08/21/2022 22:19:17            0   \n",
       "3             5       1661114131  08/21/2022 20:35:31            1   \n",
       "4             5       1661097601  08/21/2022 16:00:01            1   \n",
       "\n",
       "            reviews_id  \n",
       "0 -3366350722704842035  \n",
       "1 -3366350722704842035  \n",
       "2 -3366350722704842035  \n",
       "3 -3366350722704842035  \n",
       "4 -3366350722704842035  \n",
       "\n",
       "[5 rows x 25 columns]"
      ]
     },
     "execution_count": 46,
     "metadata": {},
     "output_type": "execute_result"
    }
   ],
   "source": [
    "df.head()"
   ]
  },
  {
   "cell_type": "code",
   "execution_count": 47,
   "id": "d5966a38",
   "metadata": {},
   "outputs": [
    {
     "data": {
      "text/plain": [
       "(1722, 25)"
      ]
     },
     "execution_count": 47,
     "metadata": {},
     "output_type": "execute_result"
    }
   ],
   "source": [
    "df.shape"
   ]
  },
  {
   "cell_type": "code",
   "execution_count": 48,
   "id": "5b1646d6",
   "metadata": {},
   "outputs": [
    {
     "data": {
      "text/plain": [
       "Index(['query', 'name', 'google_id', 'place_id', 'location_link',\n",
       "       'reviews_link', 'reviews_per_score', 'reviews', 'rating', 'review_id',\n",
       "       'author_link', 'author_title', 'author_id', 'author_image',\n",
       "       'review_text', 'review_img_url', 'owner_answer',\n",
       "       'owner_answer_timestamp', 'owner_answer_timestamp_datetime_utc',\n",
       "       'review_link', 'review_rating', 'review_timestamp',\n",
       "       'review_datetime_utc', 'review_likes', 'reviews_id'],\n",
       "      dtype='object')"
      ]
     },
     "execution_count": 48,
     "metadata": {},
     "output_type": "execute_result"
    }
   ],
   "source": [
    "df.columns"
   ]
  },
  {
   "cell_type": "code",
   "execution_count": 49,
   "id": "cf339115",
   "metadata": {},
   "outputs": [],
   "source": [
    "df.drop(['query', 'name', 'google_id', 'place_id', 'location_link',\n",
    "       'reviews_link', 'reviews_per_score', 'reviews','rating','review_id',\n",
    "       'author_link','author_image','review_img_url',\n",
    "       'review_link','reviews_id'],axis=1,inplace=True)"
   ]
  },
  {
   "cell_type": "code",
   "execution_count": 117,
   "id": "71132788",
   "metadata": {},
   "outputs": [
    {
     "data": {
      "text/html": [
       "<div>\n",
       "<style scoped>\n",
       "    .dataframe tbody tr th:only-of-type {\n",
       "        vertical-align: middle;\n",
       "    }\n",
       "\n",
       "    .dataframe tbody tr th {\n",
       "        vertical-align: top;\n",
       "    }\n",
       "\n",
       "    .dataframe thead th {\n",
       "        text-align: right;\n",
       "    }\n",
       "</style>\n",
       "<table border=\"1\" class=\"dataframe\">\n",
       "  <thead>\n",
       "    <tr style=\"text-align: right;\">\n",
       "      <th></th>\n",
       "      <th>author_title</th>\n",
       "      <th>author_id</th>\n",
       "      <th>review_text</th>\n",
       "      <th>owner_answer</th>\n",
       "      <th>owner_answer_timestamp</th>\n",
       "      <th>owner_answer_timestamp_datetime_utc</th>\n",
       "      <th>review_rating</th>\n",
       "      <th>review_datetime_utc</th>\n",
       "      <th>review_likes</th>\n",
       "      <th>text_yn</th>\n",
       "      <th>anwser_yn</th>\n",
       "      <th>rating_rolling</th>\n",
       "      <th>rating_cum</th>\n",
       "      <th>review_time_diff</th>\n",
       "      <th>review_datetime_date</th>\n",
       "      <th>review_months</th>\n",
       "    </tr>\n",
       "  </thead>\n",
       "  <tbody>\n",
       "    <tr>\n",
       "      <th>1721</th>\n",
       "      <td>J T</td>\n",
       "      <td>113269563400290461310</td>\n",
       "      <td>(Translated by Google) Cozy atmosphere, correct service, average price, the best meat quality I ...</td>\n",
       "      <td>(Translated by Google) Daisy day, JT! Thank you very much for your review. We are glad that you ...</td>\n",
       "      <td>1.553500e+09</td>\n",
       "      <td>03/25/2019 07:46:37</td>\n",
       "      <td>5</td>\n",
       "      <td>2019-03-19 07:14:44</td>\n",
       "      <td>4</td>\n",
       "      <td>yes</td>\n",
       "      <td>yes</td>\n",
       "      <td>NaN</td>\n",
       "      <td>5.0</td>\n",
       "      <td>53.157500</td>\n",
       "      <td>2019-03-19</td>\n",
       "      <td>0</td>\n",
       "    </tr>\n",
       "    <tr>\n",
       "      <th>1720</th>\n",
       "      <td>Ruben Vaquero</td>\n",
       "      <td>104439015343354547936</td>\n",
       "      <td>(Translated by Google) Carnaca good, yipikayei !!!\\n\\n(Original)\\nCarnaca de la buena, yipikayei!!!</td>\n",
       "      <td>(Translated by Google) Y'all welcome, Rubén! We are very happy to know that you have enjoyed our...</td>\n",
       "      <td>1.553500e+09</td>\n",
       "      <td>03/25/2019 07:51:56</td>\n",
       "      <td>5</td>\n",
       "      <td>2019-03-21 12:24:11</td>\n",
       "      <td>4</td>\n",
       "      <td>yes</td>\n",
       "      <td>yes</td>\n",
       "      <td>NaN</td>\n",
       "      <td>5.0</td>\n",
       "      <td>22.114722</td>\n",
       "      <td>2019-03-21</td>\n",
       "      <td>0</td>\n",
       "    </tr>\n",
       "    <tr>\n",
       "      <th>1719</th>\n",
       "      <td>Edu Martinez</td>\n",
       "      <td>109452529688817909785</td>\n",
       "      <td>(Translated by Google) Awesome food, delicious ribs are decelerated in the mouth is like a burst...</td>\n",
       "      <td>(Translated by Google) Y'all welcome, Edu! We are very happy to know that you have enjoyed our r...</td>\n",
       "      <td>1.553254e+09</td>\n",
       "      <td>03/22/2019 11:27:46</td>\n",
       "      <td>5</td>\n",
       "      <td>2019-03-22 10:31:04</td>\n",
       "      <td>4</td>\n",
       "      <td>yes</td>\n",
       "      <td>yes</td>\n",
       "      <td>NaN</td>\n",
       "      <td>5.0</td>\n",
       "      <td>25.075833</td>\n",
       "      <td>2019-03-22</td>\n",
       "      <td>0</td>\n",
       "    </tr>\n",
       "  </tbody>\n",
       "</table>\n",
       "</div>"
      ],
      "text/plain": [
       "       author_title              author_id  \\\n",
       "1721            J T  113269563400290461310   \n",
       "1720  Ruben Vaquero  104439015343354547936   \n",
       "1719   Edu Martinez  109452529688817909785   \n",
       "\n",
       "                                                                                              review_text  \\\n",
       "1721  (Translated by Google) Cozy atmosphere, correct service, average price, the best meat quality I ...   \n",
       "1720  (Translated by Google) Carnaca good, yipikayei !!!\\n\\n(Original)\\nCarnaca de la buena, yipikayei!!!   \n",
       "1719  (Translated by Google) Awesome food, delicious ribs are decelerated in the mouth is like a burst...   \n",
       "\n",
       "                                                                                             owner_answer  \\\n",
       "1721  (Translated by Google) Daisy day, JT! Thank you very much for your review. We are glad that you ...   \n",
       "1720  (Translated by Google) Y'all welcome, Rubén! We are very happy to know that you have enjoyed our...   \n",
       "1719  (Translated by Google) Y'all welcome, Edu! We are very happy to know that you have enjoyed our r...   \n",
       "\n",
       "      owner_answer_timestamp owner_answer_timestamp_datetime_utc  \\\n",
       "1721            1.553500e+09                 03/25/2019 07:46:37   \n",
       "1720            1.553500e+09                 03/25/2019 07:51:56   \n",
       "1719            1.553254e+09                 03/22/2019 11:27:46   \n",
       "\n",
       "      review_rating review_datetime_utc  review_likes text_yn anwser_yn  \\\n",
       "1721              5 2019-03-19 07:14:44             4     yes       yes   \n",
       "1720              5 2019-03-21 12:24:11             4     yes       yes   \n",
       "1719              5 2019-03-22 10:31:04             4     yes       yes   \n",
       "\n",
       "      rating_rolling  rating_cum  review_time_diff review_datetime_date  \\\n",
       "1721             NaN         5.0         53.157500           2019-03-19   \n",
       "1720             NaN         5.0         22.114722           2019-03-21   \n",
       "1719             NaN         5.0         25.075833           2019-03-22   \n",
       "\n",
       "      review_months  \n",
       "1721              0  \n",
       "1720              0  \n",
       "1719              0  "
      ]
     },
     "execution_count": 117,
     "metadata": {},
     "output_type": "execute_result"
    }
   ],
   "source": [
    "df[::-1].head(3)"
   ]
  },
  {
   "cell_type": "code",
   "execution_count": 51,
   "id": "9a1055a0",
   "metadata": {},
   "outputs": [
    {
     "data": {
      "text/html": [
       "<div>\n",
       "<style scoped>\n",
       "    .dataframe tbody tr th:only-of-type {\n",
       "        vertical-align: middle;\n",
       "    }\n",
       "\n",
       "    .dataframe tbody tr th {\n",
       "        vertical-align: top;\n",
       "    }\n",
       "\n",
       "    .dataframe thead th {\n",
       "        text-align: right;\n",
       "    }\n",
       "</style>\n",
       "<table border=\"1\" class=\"dataframe\">\n",
       "  <thead>\n",
       "    <tr style=\"text-align: right;\">\n",
       "      <th></th>\n",
       "      <th>owner_answer_timestamp</th>\n",
       "      <th>review_rating</th>\n",
       "      <th>review_timestamp</th>\n",
       "      <th>review_likes</th>\n",
       "    </tr>\n",
       "  </thead>\n",
       "  <tbody>\n",
       "    <tr>\n",
       "      <th>count</th>\n",
       "      <td>5.420000e+02</td>\n",
       "      <td>1722.000000</td>\n",
       "      <td>1.722000e+03</td>\n",
       "      <td>1722.000000</td>\n",
       "    </tr>\n",
       "    <tr>\n",
       "      <th>mean</th>\n",
       "      <td>1.615743e+09</td>\n",
       "      <td>4.386179</td>\n",
       "      <td>1.617665e+09</td>\n",
       "      <td>0.880952</td>\n",
       "    </tr>\n",
       "    <tr>\n",
       "      <th>std</th>\n",
       "      <td>3.587611e+07</td>\n",
       "      <td>1.055736</td>\n",
       "      <td>3.538155e+07</td>\n",
       "      <td>1.036407</td>\n",
       "    </tr>\n",
       "    <tr>\n",
       "      <th>min</th>\n",
       "      <td>1.553254e+09</td>\n",
       "      <td>1.000000</td>\n",
       "      <td>1.552980e+09</td>\n",
       "      <td>0.000000</td>\n",
       "    </tr>\n",
       "    <tr>\n",
       "      <th>25%</th>\n",
       "      <td>1.581081e+09</td>\n",
       "      <td>4.000000</td>\n",
       "      <td>1.579928e+09</td>\n",
       "      <td>0.000000</td>\n",
       "    </tr>\n",
       "    <tr>\n",
       "      <th>50%</th>\n",
       "      <td>1.636883e+09</td>\n",
       "      <td>5.000000</td>\n",
       "      <td>1.631205e+09</td>\n",
       "      <td>1.000000</td>\n",
       "    </tr>\n",
       "    <tr>\n",
       "      <th>75%</th>\n",
       "      <td>1.642868e+09</td>\n",
       "      <td>5.000000</td>\n",
       "      <td>1.648475e+09</td>\n",
       "      <td>1.000000</td>\n",
       "    </tr>\n",
       "    <tr>\n",
       "      <th>max</th>\n",
       "      <td>1.660479e+09</td>\n",
       "      <td>5.000000</td>\n",
       "      <td>1.661161e+09</td>\n",
       "      <td>8.000000</td>\n",
       "    </tr>\n",
       "  </tbody>\n",
       "</table>\n",
       "</div>"
      ],
      "text/plain": [
       "       owner_answer_timestamp  review_rating  review_timestamp  review_likes\n",
       "count            5.420000e+02    1722.000000      1.722000e+03   1722.000000\n",
       "mean             1.615743e+09       4.386179      1.617665e+09      0.880952\n",
       "std              3.587611e+07       1.055736      3.538155e+07      1.036407\n",
       "min              1.553254e+09       1.000000      1.552980e+09      0.000000\n",
       "25%              1.581081e+09       4.000000      1.579928e+09      0.000000\n",
       "50%              1.636883e+09       5.000000      1.631205e+09      1.000000\n",
       "75%              1.642868e+09       5.000000      1.648475e+09      1.000000\n",
       "max              1.660479e+09       5.000000      1.661161e+09      8.000000"
      ]
     },
     "execution_count": 51,
     "metadata": {},
     "output_type": "execute_result"
    }
   ],
   "source": [
    "df.describe()"
   ]
  },
  {
   "cell_type": "code",
   "execution_count": 52,
   "id": "f897720b",
   "metadata": {},
   "outputs": [
    {
     "name": "stdout",
     "output_type": "stream",
     "text": [
      "<class 'pandas.core.frame.DataFrame'>\n",
      "RangeIndex: 1722 entries, 0 to 1721\n",
      "Data columns (total 10 columns):\n",
      " #   Column                               Non-Null Count  Dtype  \n",
      "---  ------                               --------------  -----  \n",
      " 0   author_title                         1722 non-null   object \n",
      " 1   author_id                            1722 non-null   object \n",
      " 2   review_text                          1143 non-null   object \n",
      " 3   owner_answer                         542 non-null    object \n",
      " 4   owner_answer_timestamp               542 non-null    float64\n",
      " 5   owner_answer_timestamp_datetime_utc  542 non-null    object \n",
      " 6   review_rating                        1722 non-null   int64  \n",
      " 7   review_timestamp                     1722 non-null   int64  \n",
      " 8   review_datetime_utc                  1722 non-null   object \n",
      " 9   review_likes                         1722 non-null   int64  \n",
      "dtypes: float64(1), int64(3), object(6)\n",
      "memory usage: 134.7+ KB\n"
     ]
    }
   ],
   "source": [
    "df.info()"
   ]
  },
  {
   "cell_type": "code",
   "execution_count": 53,
   "id": "2e98c95f",
   "metadata": {},
   "outputs": [
    {
     "data": {
      "text/plain": [
       "author_title                              0\n",
       "author_id                                 0\n",
       "review_text                             579\n",
       "owner_answer                           1180\n",
       "owner_answer_timestamp                 1180\n",
       "owner_answer_timestamp_datetime_utc    1180\n",
       "review_rating                             0\n",
       "review_timestamp                          0\n",
       "review_datetime_utc                       0\n",
       "review_likes                              0\n",
       "dtype: int64"
      ]
     },
     "execution_count": 53,
     "metadata": {},
     "output_type": "execute_result"
    }
   ],
   "source": [
    "df.isna().sum()"
   ]
  },
  {
   "cell_type": "code",
   "execution_count": 54,
   "id": "b3faf49c",
   "metadata": {},
   "outputs": [],
   "source": [
    "#df[df['owner_answer'].notna()].head()"
   ]
  },
  {
   "cell_type": "code",
   "execution_count": 55,
   "id": "9666515f",
   "metadata": {},
   "outputs": [
    {
     "name": "stdout",
     "output_type": "stream",
     "text": [
      "yes    1143\n",
      "no      579\n",
      "Name: text_yn, dtype: int64\n",
      "no     1180\n",
      "yes     542\n",
      "Name: anwser_yn, dtype: int64\n"
     ]
    }
   ],
   "source": [
    "df['text_yn'] = df['review_text'].apply(lambda x: 'no' if x!=x else 'yes')\n",
    "df['anwser_yn'] = df['owner_answer'].apply(lambda x: 'no' if x!=x else 'yes')\n",
    "print(df['text_yn'].value_counts())\n",
    "print(df['anwser_yn'].value_counts())"
   ]
  },
  {
   "cell_type": "code",
   "execution_count": 56,
   "id": "1f713145",
   "metadata": {},
   "outputs": [
    {
     "data": {
      "text/plain": [
       "False    1143\n",
       "Name: review_text, dtype: int64"
      ]
     },
     "execution_count": 56,
     "metadata": {},
     "output_type": "execute_result"
    }
   ],
   "source": [
    "df[df['text_yn']=='yes']['review_text'].isna().value_counts()"
   ]
  },
  {
   "cell_type": "code",
   "execution_count": 57,
   "id": "70e03f93",
   "metadata": {},
   "outputs": [
    {
     "data": {
      "text/html": [
       "<div>\n",
       "<style scoped>\n",
       "    .dataframe tbody tr th:only-of-type {\n",
       "        vertical-align: middle;\n",
       "    }\n",
       "\n",
       "    .dataframe tbody tr th {\n",
       "        vertical-align: top;\n",
       "    }\n",
       "\n",
       "    .dataframe thead th {\n",
       "        text-align: right;\n",
       "    }\n",
       "</style>\n",
       "<table border=\"1\" class=\"dataframe\">\n",
       "  <thead>\n",
       "    <tr style=\"text-align: right;\">\n",
       "      <th></th>\n",
       "      <th>author_title</th>\n",
       "      <th>author_id</th>\n",
       "      <th>review_text</th>\n",
       "      <th>owner_answer</th>\n",
       "      <th>owner_answer_timestamp</th>\n",
       "      <th>owner_answer_timestamp_datetime_utc</th>\n",
       "      <th>review_rating</th>\n",
       "      <th>review_timestamp</th>\n",
       "      <th>review_datetime_utc</th>\n",
       "      <th>review_likes</th>\n",
       "      <th>text_yn</th>\n",
       "      <th>anwser_yn</th>\n",
       "    </tr>\n",
       "  </thead>\n",
       "  <tbody>\n",
       "    <tr>\n",
       "      <th>0</th>\n",
       "      <td>Christian Díaz</td>\n",
       "      <td>118290890328226276251</td>\n",
       "      <td>(Translated by Google) As always a 10 for this site. I love to go and eat a good hamburger, well done and to the point that I like. It is a wonder. Still waiting to try the smoked meats. The truth is that the most faithful to the authentic American.\\n\\n(Original)\\nComo siempre un 10 para este sitio. Me encanta ir y comer una buena hamburguesa, bien hecha y al punto que me gusta. Es una maravilla. Todavía pendiente de probar las carnes ahumadas. La verdad que de lo más fiel a lo auténtico americano.</td>\n",
       "      <td>NaN</td>\n",
       "      <td>NaN</td>\n",
       "      <td>NaN</td>\n",
       "      <td>5</td>\n",
       "      <td>1661161121</td>\n",
       "      <td>08/22/2022 09:38:41</td>\n",
       "      <td>0</td>\n",
       "      <td>yes</td>\n",
       "      <td>no</td>\n",
       "    </tr>\n",
       "    <tr>\n",
       "      <th>1</th>\n",
       "      <td>Gabriela Santiana</td>\n",
       "      <td>106821844711863729721</td>\n",
       "      <td>Delicioso todo.. seguramente repetiremos para probar más</td>\n",
       "      <td>NaN</td>\n",
       "      <td>NaN</td>\n",
       "      <td>NaN</td>\n",
       "      <td>5</td>\n",
       "      <td>1661152489</td>\n",
       "      <td>08/22/2022 07:14:49</td>\n",
       "      <td>1</td>\n",
       "      <td>yes</td>\n",
       "      <td>no</td>\n",
       "    </tr>\n",
       "    <tr>\n",
       "      <th>2</th>\n",
       "      <td>Meir Cohen</td>\n",
       "      <td>104714702665944371857</td>\n",
       "      <td>Great restaurant, great food, good price, slow service.</td>\n",
       "      <td>NaN</td>\n",
       "      <td>NaN</td>\n",
       "      <td>NaN</td>\n",
       "      <td>4</td>\n",
       "      <td>1661120357</td>\n",
       "      <td>08/21/2022 22:19:17</td>\n",
       "      <td>0</td>\n",
       "      <td>yes</td>\n",
       "      <td>no</td>\n",
       "    </tr>\n",
       "    <tr>\n",
       "      <th>3</th>\n",
       "      <td>kaka kaka</td>\n",
       "      <td>101906364734052474176</td>\n",
       "      <td>Está demasiado bueno la calidad es increíble, volveremos!!!</td>\n",
       "      <td>NaN</td>\n",
       "      <td>NaN</td>\n",
       "      <td>NaN</td>\n",
       "      <td>5</td>\n",
       "      <td>1661114131</td>\n",
       "      <td>08/21/2022 20:35:31</td>\n",
       "      <td>1</td>\n",
       "      <td>yes</td>\n",
       "      <td>no</td>\n",
       "    </tr>\n",
       "    <tr>\n",
       "      <th>4</th>\n",
       "      <td>Alberto Martinez</td>\n",
       "      <td>108348994920795296705</td>\n",
       "      <td>(Translated by Google) American food restaurant with smoked meats that I have already been to several times and the truth is that it never disappoints. It has a wide variety of starters, burgers and meats. On this occasion we have tried the nachos with chili, a combo of meats (chicken, Creole sausage and ribs) with two sides and a hamburger and a couple of cakes for dessert. Everything is delicious and as you can see in the photos the quantities are generous, so I recommend going very hungry.\\nThe attention of the waiters is very good, I hope to return soon and continue trying things on the menu.\\n\\n(Original)\\nRestaurante de comida americana de carnes ahumadas que ya he venido en varias ocasiones y la verdad que nunca defrauda. Tiene gran variedad de entrantes, hamburguesas y carnes. En esta ocasion hemos probado los nachos con chili, un combo de carnes(pollo, salchicha criolla y costillas) con dos acompañamientos y una hamburguesa y de postre un par de tartas. Todo esta buenisimo...</td>\n",
       "      <td>NaN</td>\n",
       "      <td>NaN</td>\n",
       "      <td>NaN</td>\n",
       "      <td>5</td>\n",
       "      <td>1661097601</td>\n",
       "      <td>08/21/2022 16:00:01</td>\n",
       "      <td>1</td>\n",
       "      <td>yes</td>\n",
       "      <td>no</td>\n",
       "    </tr>\n",
       "  </tbody>\n",
       "</table>\n",
       "</div>"
      ],
      "text/plain": [
       "        author_title              author_id  \\\n",
       "0     Christian Díaz  118290890328226276251   \n",
       "1  Gabriela Santiana  106821844711863729721   \n",
       "2         Meir Cohen  104714702665944371857   \n",
       "3          kaka kaka  101906364734052474176   \n",
       "4   Alberto Martinez  108348994920795296705   \n",
       "\n",
       "                                                                                                                                                                                                                                                                                                                                                                                                                                                                                                                                                                                                                                                                                                                                                                                                                                                                                                                                                                                                                               review_text  \\\n",
       "0                                                                                                                                                                                                                                                                                                                                                                                                                                                                                                                  (Translated by Google) As always a 10 for this site. I love to go and eat a good hamburger, well done and to the point that I like. It is a wonder. Still waiting to try the smoked meats. The truth is that the most faithful to the authentic American.\\n\\n(Original)\\nComo siempre un 10 para este sitio. Me encanta ir y comer una buena hamburguesa, bien hecha y al punto que me gusta. Es una maravilla. Todavía pendiente de probar las carnes ahumadas. La verdad que de lo más fiel a lo auténtico americano.   \n",
       "1                                                                                                                                                                                                                                                                                                                                                                                                                                                                                                                                                                                                                                                                                                                                                                                                                                                                                                                                                                                 Delicioso todo.. seguramente repetiremos para probar más   \n",
       "2                                                                                                                                                                                                                                                                                                                                                                                                                                                                                                                                                                                                                                                                                                                                                                                                                                                                                                                                                                                  Great restaurant, great food, good price, slow service.   \n",
       "3                                                                                                                                                                                                                                                                                                                                                                                                                                                                                                                                                                                                                                                                                                                                                                                                                                                                                                                                                                              Está demasiado bueno la calidad es increíble, volveremos!!!   \n",
       "4  (Translated by Google) American food restaurant with smoked meats that I have already been to several times and the truth is that it never disappoints. It has a wide variety of starters, burgers and meats. On this occasion we have tried the nachos with chili, a combo of meats (chicken, Creole sausage and ribs) with two sides and a hamburger and a couple of cakes for dessert. Everything is delicious and as you can see in the photos the quantities are generous, so I recommend going very hungry.\\nThe attention of the waiters is very good, I hope to return soon and continue trying things on the menu.\\n\\n(Original)\\nRestaurante de comida americana de carnes ahumadas que ya he venido en varias ocasiones y la verdad que nunca defrauda. Tiene gran variedad de entrantes, hamburguesas y carnes. En esta ocasion hemos probado los nachos con chili, un combo de carnes(pollo, salchicha criolla y costillas) con dos acompañamientos y una hamburguesa y de postre un par de tartas. Todo esta buenisimo...   \n",
       "\n",
       "  owner_answer  owner_answer_timestamp owner_answer_timestamp_datetime_utc  \\\n",
       "0          NaN                     NaN                                 NaN   \n",
       "1          NaN                     NaN                                 NaN   \n",
       "2          NaN                     NaN                                 NaN   \n",
       "3          NaN                     NaN                                 NaN   \n",
       "4          NaN                     NaN                                 NaN   \n",
       "\n",
       "   review_rating  review_timestamp  review_datetime_utc  review_likes text_yn  \\\n",
       "0              5        1661161121  08/22/2022 09:38:41             0     yes   \n",
       "1              5        1661152489  08/22/2022 07:14:49             1     yes   \n",
       "2              4        1661120357  08/21/2022 22:19:17             0     yes   \n",
       "3              5        1661114131  08/21/2022 20:35:31             1     yes   \n",
       "4              5        1661097601  08/21/2022 16:00:01             1     yes   \n",
       "\n",
       "  anwser_yn  \n",
       "0        no  \n",
       "1        no  \n",
       "2        no  \n",
       "3        no  \n",
       "4        no  "
      ]
     },
     "execution_count": 57,
     "metadata": {},
     "output_type": "execute_result"
    }
   ],
   "source": [
    "df.head()"
   ]
  },
  {
   "cell_type": "code",
   "execution_count": 58,
   "id": "9cd184f2",
   "metadata": {},
   "outputs": [
    {
     "data": {
      "text/plain": [
       "<AxesSubplot:xlabel='text_yn', ylabel='count'>"
      ]
     },
     "execution_count": 58,
     "metadata": {},
     "output_type": "execute_result"
    },
    {
     "data": {
      "image/png": "[encoded data removed]",
      "text/plain": [
       "<Figure size 432x288 with 1 Axes>"
      ]
     },
     "metadata": {
      "needs_background": "light"
     },
     "output_type": "display_data"
    }
   ],
   "source": [
    "sns.countplot(data=df,x='text_yn')"
   ]
  },
  {
   "cell_type": "code",
   "execution_count": 59,
   "id": "aa7076c9",
   "metadata": {},
   "outputs": [
    {
     "data": {
      "text/plain": [
       "<AxesSubplot:xlabel='review_rating', ylabel='count'>"
      ]
     },
     "execution_count": 59,
     "metadata": {},
     "output_type": "execute_result"
    },
    {
     "data": {
      "image/png": "[encoded data removed]",
      "text/plain": [
       "<Figure size 432x288 with 1 Axes>"
      ]
     },
     "metadata": {
      "needs_background": "light"
     },
     "output_type": "display_data"
    }
   ],
   "source": [
    "sns.countplot(data=df,x='review_rating',hue='text_yn')"
   ]
  },
  {
   "cell_type": "code",
   "execution_count": 60,
   "id": "90128d87",
   "metadata": {},
   "outputs": [
    {
     "data": {
      "text/plain": [
       "<AxesSubplot:xlabel='review_rating', ylabel='count'>"
      ]
     },
     "execution_count": 60,
     "metadata": {},
     "output_type": "execute_result"
    },
    {
     "data": {
      "image/png": "[encoded data removed]",
      "text/plain": [
       "<Figure size 432x288 with 1 Axes>"
      ]
     },
     "metadata": {
      "needs_background": "light"
     },
     "output_type": "display_data"
    }
   ],
   "source": [
    "sns.countplot(data=df,x='review_rating',hue='anwser_yn')"
   ]
  },
  {
   "cell_type": "code",
   "execution_count": 61,
   "id": "2acbc91b",
   "metadata": {},
   "outputs": [
    {
     "data": {
      "text/plain": [
       "<AxesSubplot:xlabel='review_rating', ylabel='review_likes'>"
      ]
     },
     "execution_count": 61,
     "metadata": {},
     "output_type": "execute_result"
    },
    {
     "data": {
      "image/png": "[encoded data removed]",
      "text/plain": [
       "<Figure size 432x288 with 1 Axes>"
      ]
     },
     "metadata": {
      "needs_background": "light"
     },
     "output_type": "display_data"
    }
   ],
   "source": [
    "sns.barplot(x=df.groupby('review_rating').sum().index,y=df.groupby('review_rating').sum()['review_likes'])"
   ]
  },
  {
   "cell_type": "code",
   "execution_count": 62,
   "id": "6972a295",
   "metadata": {},
   "outputs": [
    {
     "name": "stdout",
     "output_type": "stream",
     "text": [
      "8\n",
      "793    (Translated by Google) DISASTROUS! There were 8 of us and after waiting 1 hour and a half, they forgot our command. When it finally arrived, half the burgers were cold and inedible, and the bread was breaking (reheated) and we had to send them back. The fries were dry, refried, and oily. In addition, they were wrong in the companions.\\nThe service was relatively friendly, although the Asian-looking waiter hesitated at my friend and was extremely unprofessional.\\n\\nWhoever takes a lot of space, the less he tightens up!!\\n\\n(Original)\\nDESASTROSO! Éramos 8 y después de esperar 1 hora y media, se olvidaron nuestra comanda. Cuando por fín llegó, la mitad de hamburguesas estaban frías e incomibles, y el pan se rompía (recalentado) y las tuvimos que devolver. Las patatas fritas estaban secas, refritas y aceitosas. Además,se equivocaron en los acompañantes.\\nEl servicio fue relativamente simpático, aunque el camarero de aspecto asiático vaciló a mi amigo y fue extremadamente poco profesio...\n",
      "Name: review_text, dtype: object\n"
     ]
    }
   ],
   "source": [
    "max_likes_1 = df[df['review_rating']==1]['review_likes'].max()\n",
    "print(max_likes_1)\n",
    "pd.options.display.max_colwidth = 1000\n",
    "print(df[df['review_likes']==max_likes_1]['review_text'])"
   ]
  },
  {
   "cell_type": "code",
   "execution_count": 63,
   "id": "9824f962",
   "metadata": {},
   "outputs": [
    {
     "name": "stdout",
     "output_type": "stream",
     "text": [
      "7\n",
      "242    (Translated by Google) Impressive quantity and quality of burgers! Undoubtedly one of the best hamburger restaurants in Barcelona.\\nI loved the flavor of the meat , with a touch of grilled meat that was not lost despite the extra ingredients and sauces .\\nIn addition, the size of the hamburgers is enormous, the quality, quantity and price ratio is very good.\\nThe super Cheezy was very good and so that you don't get dirty with all the cheese it has, they give you some gloves to eat it, which is a detail and helps you enjoy it much more.\\nThe service very attentive and fast.\\nThe spacious place, very well decorated and in full truth. In short, everything is perfect.\\n\\n(Original)\\nImpresionante cantidad y calidad de las hamburguesas ! Sin duda una de las mejores hamburgueserías de Barcelona.\\nEl sabor de la carne me encantó , con un toque a brasa que a pesar de los ingredientes extra y las salsas no se perdía .\\nAdemás el tamaño de las hamburguesas es enorme , muy bien la relación ca...\n",
      "289                                  (Translated by Google) INCREDIBLE, 10 out of 10. Everything is spectacular, both in terms of food and service. Exquisite meats, burgers at the perfect point and combos just as good. The very top companions, I highly recommend the mac'n cheese and coleslaw. Nachos with extra pulled pork are also mandatory, apart from the quantities are very generous, I love it. Waiters very friendly, attentive and also with a good sense of humor. All very very very good. To repeat many more times!!\\n\\n(Original)\\nINCREIBLE, 10 de 10. Todo espectacular tanto respesto a la comida como al servicio. Carnes exquisitas, las burgers al punto perfecto y los combos igual de buenos. Los acompañantes muy top, recomiendo muchisimo el mac’n cheese y la coleslaw. Nachos con extra de pulled pork tamb obligatorios, aparte las cantidades son muy generosas, me encanta. Camareros muy amables, atentos y además con buen sentido del humor. Todo muy muy muy bueno. Para repetir muchas más veces!!\n",
      "506                                                                                                                                                                                                          (Translated by Google) I did not have so many expectations because it is in a very touristy area, but the place has surprised us.\\nGood food, the nachos were amazing to share and the plates are full sizes, I think with the 1 plate option you will have more than enough.\\nThe place and bathrooms were clean.\\nThe attention of the staff has been good and the service fast.\\nRecommended we will return.\\n\\n(Original)\\nNo tenía tantas expectativas porque está en una zona muy turística, pero nos ha sorprendido el lugar.\\nBuena comida, los nachos estaban increíbles para compartir y los platos son de tamaños completos, creo que con la opción de 1 plato quedarás más que suficiente.\\nEl lugar y los baños estaban limpios.\\nLa atención del staff ha sido buena y el servicio rápido.\\nRecomendado volveremos.\n",
      "Name: review_text, dtype: object\n"
     ]
    }
   ],
   "source": [
    "max_likes_5 = df[df['review_rating']==5]['review_likes'].max()\n",
    "print(max_likes_5)\n",
    "pd.options.display.max_colwidth = 1000\n",
    "print(df[df['review_likes']==max_likes_5]['review_text'])"
   ]
  },
  {
   "cell_type": "code",
   "execution_count": 106,
   "id": "20eadac7",
   "metadata": {},
   "outputs": [],
   "source": [
    "pd.options.display.max_colwidth = 100"
   ]
  },
  {
   "cell_type": "code",
   "execution_count": 107,
   "id": "d8ae7805",
   "metadata": {},
   "outputs": [
    {
     "data": {
      "text/plain": [
       "<AxesSubplot:xlabel='review_rating', ylabel='count'>"
      ]
     },
     "execution_count": 107,
     "metadata": {},
     "output_type": "execute_result"
    },
    {
     "data": {
      "image/png": "[encoded data removed]",
      "text/plain": [
       "<Figure size 432x288 with 1 Axes>"
      ]
     },
     "metadata": {
      "needs_background": "light"
     },
     "output_type": "display_data"
    }
   ],
   "source": [
    "sns.countplot(data=df[df['text_yn']=='yes'],x='review_rating')"
   ]
  },
  {
   "cell_type": "code",
   "execution_count": 108,
   "id": "3f3616de",
   "metadata": {},
   "outputs": [
    {
     "ename": "KeyError",
     "evalue": "'review_timestamp'",
     "output_type": "error",
     "traceback": [
      "\u001b[0;31m---------------------------------------------------------------------------\u001b[0m",
      "\u001b[0;31mKeyError\u001b[0m                                  Traceback (most recent call last)",
      "File \u001b[0;32m~/miniconda3/lib/python3.9/site-packages/pandas/core/indexes/base.py:3621\u001b[0m, in \u001b[0;36mIndex.get_loc\u001b[0;34m(self, key, method, tolerance)\u001b[0m\n\u001b[1;32m   3620\u001b[0m \u001b[38;5;28;01mtry\u001b[39;00m:\n\u001b[0;32m-> 3621\u001b[0m     \u001b[38;5;28;01mreturn\u001b[39;00m \u001b[38;5;28;43mself\u001b[39;49m\u001b[38;5;241;43m.\u001b[39;49m\u001b[43m_engine\u001b[49m\u001b[38;5;241;43m.\u001b[39;49m\u001b[43mget_loc\u001b[49m\u001b[43m(\u001b[49m\u001b[43mcasted_key\u001b[49m\u001b[43m)\u001b[49m\n\u001b[1;32m   3622\u001b[0m \u001b[38;5;28;01mexcept\u001b[39;00m \u001b[38;5;167;01mKeyError\u001b[39;00m \u001b[38;5;28;01mas\u001b[39;00m err:\n",
      "File \u001b[0;32m~/miniconda3/lib/python3.9/site-packages/pandas/_libs/index.pyx:136\u001b[0m, in \u001b[0;36mpandas._libs.index.IndexEngine.get_loc\u001b[0;34m()\u001b[0m\n",
      "File \u001b[0;32m~/miniconda3/lib/python3.9/site-packages/pandas/_libs/index.pyx:163\u001b[0m, in \u001b[0;36mpandas._libs.index.IndexEngine.get_loc\u001b[0;34m()\u001b[0m\n",
      "File \u001b[0;32mpandas/_libs/hashtable_class_helper.pxi:5198\u001b[0m, in \u001b[0;36mpandas._libs.hashtable.PyObjectHashTable.get_item\u001b[0;34m()\u001b[0m\n",
      "File \u001b[0;32mpandas/_libs/hashtable_class_helper.pxi:5206\u001b[0m, in \u001b[0;36mpandas._libs.hashtable.PyObjectHashTable.get_item\u001b[0;34m()\u001b[0m\n",
      "\u001b[0;31mKeyError\u001b[0m: 'review_timestamp'",
      "\nThe above exception was the direct cause of the following exception:\n",
      "\u001b[0;31mKeyError\u001b[0m                                  Traceback (most recent call last)",
      "Input \u001b[0;32mIn [108]\u001b[0m, in \u001b[0;36m<cell line: 1>\u001b[0;34m()\u001b[0m\n\u001b[0;32m----> 1\u001b[0m datetime\u001b[38;5;241m.\u001b[39mfromtimestamp(\u001b[43mdf\u001b[49m\u001b[43m[\u001b[49m\u001b[38;5;124;43m'\u001b[39;49m\u001b[38;5;124;43mreview_timestamp\u001b[39;49m\u001b[38;5;124;43m'\u001b[39;49m\u001b[43m]\u001b[49m\u001b[38;5;241m.\u001b[39miloc[\u001b[38;5;241m0\u001b[39m])\n",
      "File \u001b[0;32m~/miniconda3/lib/python3.9/site-packages/pandas/core/frame.py:3505\u001b[0m, in \u001b[0;36mDataFrame.__getitem__\u001b[0;34m(self, key)\u001b[0m\n\u001b[1;32m   3503\u001b[0m \u001b[38;5;28;01mif\u001b[39;00m \u001b[38;5;28mself\u001b[39m\u001b[38;5;241m.\u001b[39mcolumns\u001b[38;5;241m.\u001b[39mnlevels \u001b[38;5;241m>\u001b[39m \u001b[38;5;241m1\u001b[39m:\n\u001b[1;32m   3504\u001b[0m     \u001b[38;5;28;01mreturn\u001b[39;00m \u001b[38;5;28mself\u001b[39m\u001b[38;5;241m.\u001b[39m_getitem_multilevel(key)\n\u001b[0;32m-> 3505\u001b[0m indexer \u001b[38;5;241m=\u001b[39m \u001b[38;5;28;43mself\u001b[39;49m\u001b[38;5;241;43m.\u001b[39;49m\u001b[43mcolumns\u001b[49m\u001b[38;5;241;43m.\u001b[39;49m\u001b[43mget_loc\u001b[49m\u001b[43m(\u001b[49m\u001b[43mkey\u001b[49m\u001b[43m)\u001b[49m\n\u001b[1;32m   3506\u001b[0m \u001b[38;5;28;01mif\u001b[39;00m is_integer(indexer):\n\u001b[1;32m   3507\u001b[0m     indexer \u001b[38;5;241m=\u001b[39m [indexer]\n",
      "File \u001b[0;32m~/miniconda3/lib/python3.9/site-packages/pandas/core/indexes/base.py:3623\u001b[0m, in \u001b[0;36mIndex.get_loc\u001b[0;34m(self, key, method, tolerance)\u001b[0m\n\u001b[1;32m   3621\u001b[0m     \u001b[38;5;28;01mreturn\u001b[39;00m \u001b[38;5;28mself\u001b[39m\u001b[38;5;241m.\u001b[39m_engine\u001b[38;5;241m.\u001b[39mget_loc(casted_key)\n\u001b[1;32m   3622\u001b[0m \u001b[38;5;28;01mexcept\u001b[39;00m \u001b[38;5;167;01mKeyError\u001b[39;00m \u001b[38;5;28;01mas\u001b[39;00m err:\n\u001b[0;32m-> 3623\u001b[0m     \u001b[38;5;28;01mraise\u001b[39;00m \u001b[38;5;167;01mKeyError\u001b[39;00m(key) \u001b[38;5;28;01mfrom\u001b[39;00m \u001b[38;5;21;01merr\u001b[39;00m\n\u001b[1;32m   3624\u001b[0m \u001b[38;5;28;01mexcept\u001b[39;00m \u001b[38;5;167;01mTypeError\u001b[39;00m:\n\u001b[1;32m   3625\u001b[0m     \u001b[38;5;66;03m# If we have a listlike key, _check_indexing_error will raise\u001b[39;00m\n\u001b[1;32m   3626\u001b[0m     \u001b[38;5;66;03m#  InvalidIndexError. Otherwise we fall through and re-raise\u001b[39;00m\n\u001b[1;32m   3627\u001b[0m     \u001b[38;5;66;03m#  the TypeError.\u001b[39;00m\n\u001b[1;32m   3628\u001b[0m     \u001b[38;5;28mself\u001b[39m\u001b[38;5;241m.\u001b[39m_check_indexing_error(key)\n",
      "\u001b[0;31mKeyError\u001b[0m: 'review_timestamp'"
     ]
    }
   ],
   "source": [
    "datetime.fromtimestamp(df['review_timestamp'].iloc[0])"
   ]
  },
  {
   "cell_type": "code",
   "execution_count": null,
   "id": "b2d2a8d6",
   "metadata": {},
   "outputs": [],
   "source": [
    "df['review_datetime_utc'] = df['review_timestamp'].apply(lambda date: datetime.utcfromtimestamp(date))"
   ]
  },
  {
   "cell_type": "code",
   "execution_count": null,
   "id": "c97c2ec1",
   "metadata": {},
   "outputs": [],
   "source": [
    "df.drop('review_timestamp',axis=1,inplace=True)"
   ]
  },
  {
   "cell_type": "code",
   "execution_count": null,
   "id": "03d44124",
   "metadata": {},
   "outputs": [],
   "source": [
    "df.head()"
   ]
  },
  {
   "cell_type": "code",
   "execution_count": 109,
   "id": "5f5ef2af",
   "metadata": {},
   "outputs": [],
   "source": [
    "df['rating_rolling'] = df['review_rating'][::-1].rolling(window=25).mean()"
   ]
  },
  {
   "cell_type": "code",
   "execution_count": 110,
   "id": "c51b265b",
   "metadata": {},
   "outputs": [
    {
     "data": {
      "text/plain": [
       "<AxesSubplot:xlabel='review_datetime_utc', ylabel='rating_rolling'>"
      ]
     },
     "execution_count": 110,
     "metadata": {},
     "output_type": "execute_result"
    },
    {
     "data": {
      "image/png": "[encoded data removed]",
      "text/plain": [
       "<Figure size 864x576 with 1 Axes>"
      ]
     },
     "metadata": {
      "needs_background": "light"
     },
     "output_type": "display_data"
    }
   ],
   "source": [
    "plt.figure(figsize=(12,8))\n",
    "plt.tight_layout()\n",
    "sns.lineplot(data=df,x='review_datetime_utc',y='rating_rolling',color='red')"
   ]
  },
  {
   "cell_type": "code",
   "execution_count": 111,
   "id": "682ec3f4",
   "metadata": {},
   "outputs": [],
   "source": [
    "df['rating_cum'] = df['review_rating'][::-1].expanding().mean()"
   ]
  },
  {
   "cell_type": "code",
   "execution_count": 112,
   "id": "df322250",
   "metadata": {},
   "outputs": [
    {
     "data": {
      "text/plain": [
       "<AxesSubplot:xlabel='review_datetime_utc', ylabel='rating_cum'>"
      ]
     },
     "execution_count": 112,
     "metadata": {},
     "output_type": "execute_result"
    },
    {
     "data": {
      "image/png": "[encoded data removed]",
      "text/plain": [
       "<Figure size 864x576 with 1 Axes>"
      ]
     },
     "metadata": {
      "needs_background": "light"
     },
     "output_type": "display_data"
    }
   ],
   "source": [
    "plt.figure(figsize=(12,8))\n",
    "sns.lineplot(data=df,x='review_datetime_utc',y='rating_cum')"
   ]
  },
  {
   "cell_type": "code",
   "execution_count": 113,
   "id": "026e1244",
   "metadata": {},
   "outputs": [
    {
     "data": {
      "text/plain": [
       "\"diff_col = []\\nold_i = df['review_datetime_utc'].iloc[0]\\n\\nfor i in df['review_datetime_utc']:\\n    diff = (old_i - i)\\n    print(f'{old_i} - {i} = {diff}')\\n    old_i = i\\n    diff_col.append(diff)\\n    \\n#diff_col   \""
      ]
     },
     "execution_count": 113,
     "metadata": {},
     "output_type": "execute_result"
    }
   ],
   "source": [
    "\"\"\"diff_col = []\n",
    "old_i = df['review_datetime_utc'].iloc[0]\n",
    "\n",
    "for i in df['review_datetime_utc']:\n",
    "    diff = (old_i - i)\n",
    "    print(f'{old_i} - {i} = {diff}')\n",
    "    old_i = i\n",
    "    diff_col.append(diff)\n",
    "    \n",
    "#diff_col   \"\"\""
   ]
  },
  {
   "cell_type": "code",
   "execution_count": 114,
   "id": "927cc085",
   "metadata": {},
   "outputs": [],
   "source": [
    "df['review_time_diff'] = df['review_datetime_utc'].diff()/timedelta(hours=1)*(-1) "
   ]
  },
  {
   "cell_type": "code",
   "execution_count": 115,
   "id": "1bd19e62",
   "metadata": {},
   "outputs": [
    {
     "data": {
      "text/plain": [
       "0             NaN\n",
       "1        2.397778\n",
       "2        8.925556\n",
       "3        1.729444\n",
       "4        4.591667\n",
       "          ...    \n",
       "1717    11.348333\n",
       "1718     1.936667\n",
       "1719    25.075833\n",
       "1720    22.114722\n",
       "1721    53.157500\n",
       "Name: review_time_diff, Length: 1722, dtype: float64"
      ]
     },
     "execution_count": 115,
     "metadata": {},
     "output_type": "execute_result"
    }
   ],
   "source": [
    "df['review_time_diff']"
   ]
  },
  {
   "cell_type": "code",
   "execution_count": 116,
   "id": "a2f17a22",
   "metadata": {},
   "outputs": [
    {
     "data": {
      "text/html": [
       "<div>\n",
       "<style scoped>\n",
       "    .dataframe tbody tr th:only-of-type {\n",
       "        vertical-align: middle;\n",
       "    }\n",
       "\n",
       "    .dataframe tbody tr th {\n",
       "        vertical-align: top;\n",
       "    }\n",
       "\n",
       "    .dataframe thead th {\n",
       "        text-align: right;\n",
       "    }\n",
       "</style>\n",
       "<table border=\"1\" class=\"dataframe\">\n",
       "  <thead>\n",
       "    <tr style=\"text-align: right;\">\n",
       "      <th></th>\n",
       "      <th>author_title</th>\n",
       "      <th>author_id</th>\n",
       "      <th>review_text</th>\n",
       "      <th>owner_answer</th>\n",
       "      <th>owner_answer_timestamp</th>\n",
       "      <th>owner_answer_timestamp_datetime_utc</th>\n",
       "      <th>review_rating</th>\n",
       "      <th>review_datetime_utc</th>\n",
       "      <th>review_likes</th>\n",
       "      <th>text_yn</th>\n",
       "      <th>anwser_yn</th>\n",
       "      <th>rating_rolling</th>\n",
       "      <th>rating_cum</th>\n",
       "      <th>review_time_diff</th>\n",
       "      <th>review_datetime_date</th>\n",
       "      <th>review_months</th>\n",
       "    </tr>\n",
       "  </thead>\n",
       "  <tbody>\n",
       "    <tr>\n",
       "      <th>1171</th>\n",
       "      <td>SERGIO SERGIUSTO</td>\n",
       "      <td>111040738922422302117</td>\n",
       "      <td>(Translated by Google) You eat well\\n\\n(Original)\\nSi mangia bene</td>\n",
       "      <td>NaN</td>\n",
       "      <td>NaN</td>\n",
       "      <td>NaN</td>\n",
       "      <td>4</td>\n",
       "      <td>2020-03-31 11:13:43</td>\n",
       "      <td>0</td>\n",
       "      <td>yes</td>\n",
       "      <td>no</td>\n",
       "      <td>4.04</td>\n",
       "      <td>4.328494</td>\n",
       "      <td>2384.173611</td>\n",
       "      <td>2020-03-31</td>\n",
       "      <td>12</td>\n",
       "    </tr>\n",
       "  </tbody>\n",
       "</table>\n",
       "</div>"
      ],
      "text/plain": [
       "          author_title              author_id  \\\n",
       "1171  SERGIO SERGIUSTO  111040738922422302117   \n",
       "\n",
       "                                                            review_text  \\\n",
       "1171  (Translated by Google) You eat well\\n\\n(Original)\\nSi mangia bene   \n",
       "\n",
       "     owner_answer  owner_answer_timestamp owner_answer_timestamp_datetime_utc  \\\n",
       "1171          NaN                     NaN                                 NaN   \n",
       "\n",
       "      review_rating review_datetime_utc  review_likes text_yn anwser_yn  \\\n",
       "1171              4 2020-03-31 11:13:43             0     yes        no   \n",
       "\n",
       "      rating_rolling  rating_cum  review_time_diff review_datetime_date  \\\n",
       "1171            4.04    4.328494       2384.173611           2020-03-31   \n",
       "\n",
       "      review_months  \n",
       "1171             12  "
      ]
     },
     "execution_count": 116,
     "metadata": {},
     "output_type": "execute_result"
    }
   ],
   "source": [
    "df[df['review_time_diff']==df['review_time_diff'].max()]"
   ]
  },
  {
   "cell_type": "code",
   "execution_count": 77,
   "id": "66a09e54",
   "metadata": {},
   "outputs": [],
   "source": [
    "#df[df['review_datetime_utc']>pd.to_datetime('2021-07-01')]"
   ]
  },
  {
   "cell_type": "code",
   "execution_count": 78,
   "id": "84e52182",
   "metadata": {},
   "outputs": [
    {
     "data": {
      "text/plain": [
       "Timestamp('2021-07-02 00:25:12')"
      ]
     },
     "execution_count": 78,
     "metadata": {},
     "output_type": "execute_result"
    }
   ],
   "source": [
    "df[df['review_datetime_utc']>pd.to_datetime('2021-07-01')]['review_datetime_utc'].min()"
   ]
  },
  {
   "cell_type": "code",
   "execution_count": 79,
   "id": "f722d40b",
   "metadata": {},
   "outputs": [
    {
     "data": {
      "text/plain": [
       "10.083980547146536"
      ]
     },
     "execution_count": 79,
     "metadata": {},
     "output_type": "execute_result"
    }
   ],
   "source": [
    "df[df['review_datetime_utc']>pd.to_datetime('2021-07-01')]['review_time_diff'].mean()"
   ]
  },
  {
   "cell_type": "code",
   "execution_count": 80,
   "id": "3cf3f571",
   "metadata": {},
   "outputs": [],
   "source": [
    "df['review_datetime_date'] = df['review_datetime_utc'].apply(lambda x: x.date())"
   ]
  },
  {
   "cell_type": "code",
   "execution_count": 81,
   "id": "76a4c94d",
   "metadata": {},
   "outputs": [
    {
     "data": {
      "text/plain": [
       "8"
      ]
     },
     "execution_count": 81,
     "metadata": {},
     "output_type": "execute_result"
    }
   ],
   "source": [
    "df['review_datetime_utc'].iloc[0].month"
   ]
  },
  {
   "cell_type": "code",
   "execution_count": 82,
   "id": "9d87bf26",
   "metadata": {},
   "outputs": [
    {
     "data": {
      "text/plain": [
       "41"
      ]
     },
     "execution_count": 82,
     "metadata": {},
     "output_type": "execute_result"
    }
   ],
   "source": [
    "delta = relativedelta.relativedelta(df['review_datetime_utc'].iloc[0], df['review_datetime_utc'].iloc[-1])\n",
    "delta = delta.months + delta.years*12\n",
    "delta"
   ]
  },
  {
   "cell_type": "code",
   "execution_count": 83,
   "id": "4ed75a63",
   "metadata": {},
   "outputs": [],
   "source": [
    "def func_delta_month(date):\n",
    "    delta = relativedelta.relativedelta(date, df['review_datetime_utc'].iloc[-1])\n",
    "    delta_month = delta.months + delta.years*12\n",
    "    return delta_month\n",
    "\n",
    "df['review_months'] = df['review_datetime_utc'].apply(func_delta_month)"
   ]
  },
  {
   "cell_type": "code",
   "execution_count": 84,
   "id": "766c0f8c",
   "metadata": {},
   "outputs": [],
   "source": [
    "rev_months_rating = pd.Series(round(df.groupby('review_months')['review_rating'].mean(),1))"
   ]
  },
  {
   "cell_type": "code",
   "execution_count": 85,
   "id": "1df96d65",
   "metadata": {},
   "outputs": [],
   "source": [
    "rev_months_counts = pd.Series(df.groupby('review_months')['review_rating'].count())"
   ]
  },
  {
   "cell_type": "code",
   "execution_count": 86,
   "id": "981051e9",
   "metadata": {},
   "outputs": [],
   "source": [
    "index = pd.Series(np.arange(0,df.groupby('review_months')['review_rating'].mean().index.max()+1))"
   ]
  },
  {
   "cell_type": "code",
   "execution_count": 87,
   "id": "86f0f874",
   "metadata": {},
   "outputs": [
    {
     "data": {
      "text/html": [
       "<div>\n",
       "<style scoped>\n",
       "    .dataframe tbody tr th:only-of-type {\n",
       "        vertical-align: middle;\n",
       "    }\n",
       "\n",
       "    .dataframe tbody tr th {\n",
       "        vertical-align: top;\n",
       "    }\n",
       "\n",
       "    .dataframe thead th {\n",
       "        text-align: right;\n",
       "    }\n",
       "</style>\n",
       "<table border=\"1\" class=\"dataframe\">\n",
       "  <thead>\n",
       "    <tr style=\"text-align: right;\">\n",
       "      <th></th>\n",
       "      <th>month</th>\n",
       "      <th>rev_months_rating</th>\n",
       "      <th>rev_months_counts</th>\n",
       "    </tr>\n",
       "  </thead>\n",
       "  <tbody>\n",
       "    <tr>\n",
       "      <th>0</th>\n",
       "      <td>0</td>\n",
       "      <td>4.5</td>\n",
       "      <td>31.0</td>\n",
       "    </tr>\n",
       "    <tr>\n",
       "      <th>1</th>\n",
       "      <td>1</td>\n",
       "      <td>4.2</td>\n",
       "      <td>36.0</td>\n",
       "    </tr>\n",
       "    <tr>\n",
       "      <th>2</th>\n",
       "      <td>2</td>\n",
       "      <td>4.3</td>\n",
       "      <td>40.0</td>\n",
       "    </tr>\n",
       "    <tr>\n",
       "      <th>3</th>\n",
       "      <td>3</td>\n",
       "      <td>4.4</td>\n",
       "      <td>41.0</td>\n",
       "    </tr>\n",
       "    <tr>\n",
       "      <th>4</th>\n",
       "      <td>4</td>\n",
       "      <td>4.3</td>\n",
       "      <td>52.0</td>\n",
       "    </tr>\n",
       "  </tbody>\n",
       "</table>\n",
       "</div>"
      ],
      "text/plain": [
       "   month  rev_months_rating  rev_months_counts\n",
       "0      0                4.5               31.0\n",
       "1      1                4.2               36.0\n",
       "2      2                4.3               40.0\n",
       "3      3                4.4               41.0\n",
       "4      4                4.3               52.0"
      ]
     },
     "execution_count": 87,
     "metadata": {},
     "output_type": "execute_result"
    }
   ],
   "source": [
    "df_months = pd.concat([index,rev_months_rating,rev_months_counts],axis=1,keys=['month','rev_months_rating','rev_months_counts'])\n",
    "df_months.set_index(index)\n",
    "df_months.head()"
   ]
  },
  {
   "cell_type": "code",
   "execution_count": 102,
   "id": "da9979ec",
   "metadata": {},
   "outputs": [
    {
     "data": {
      "text/plain": [
       "<AxesSubplot:xlabel='month', ylabel='rev_months_counts'>"
      ]
     },
     "execution_count": 102,
     "metadata": {},
     "output_type": "execute_result"
    },
    {
     "data": {
      "image/png": "[encoded data removed]",
      "text/plain": [
       "<Figure size 864x576 with 1 Axes>"
      ]
     },
     "metadata": {
      "needs_background": "light"
     },
     "output_type": "display_data"
    }
   ],
   "source": [
    "plt.figure(figsize=(12,8))\n",
    "sns.barplot(data=df_months, \\\n",
    "                 x='month', \\\n",
    "                 y='rev_months_counts', \\\n",
    "                 hue='rev_months_rating', \\\n",
    "                 dodge=False, \\\n",
    "                 palette=\"coolwarm\")"
   ]
  },
  {
   "cell_type": "code",
   "execution_count": 344,
   "id": "2b6f302b",
   "metadata": {},
   "outputs": [
    {
     "data": {
      "text/plain": [
       "False    1143\n",
       "Name: review_text, dtype: int64"
      ]
     },
     "execution_count": 344,
     "metadata": {},
     "output_type": "execute_result"
    }
   ],
   "source": [
    "df[df['text_yn']=='yes']['review_text'].isna().value_counts()"
   ]
  },
  {
   "cell_type": "code",
   "execution_count": 345,
   "id": "5d1b136c",
   "metadata": {},
   "outputs": [
    {
     "data": {
      "text/plain": [
       "0     9\n",
       "1     7\n",
       "2    22\n",
       "3    20\n",
       "4    16\n",
       "Name: review_hour, dtype: int64"
      ]
     },
     "execution_count": 345,
     "metadata": {},
     "output_type": "execute_result"
    }
   ],
   "source": [
    "df['review_hour'] = df['review_datetime_utc'].apply(lambda x: x.hour)\n",
    "df['review_hour'].head()"
   ]
  },
  {
   "cell_type": "code",
   "execution_count": 346,
   "id": "1f7c1696",
   "metadata": {},
   "outputs": [
    {
     "data": {
      "text/html": [
       "<div>\n",
       "<style scoped>\n",
       "    .dataframe tbody tr th:only-of-type {\n",
       "        vertical-align: middle;\n",
       "    }\n",
       "\n",
       "    .dataframe tbody tr th {\n",
       "        vertical-align: top;\n",
       "    }\n",
       "\n",
       "    .dataframe thead th {\n",
       "        text-align: right;\n",
       "    }\n",
       "</style>\n",
       "<table border=\"1\" class=\"dataframe\">\n",
       "  <thead>\n",
       "    <tr style=\"text-align: right;\">\n",
       "      <th></th>\n",
       "      <th>owner_answer_timestamp</th>\n",
       "      <th>review_rating</th>\n",
       "      <th>review_likes</th>\n",
       "      <th>rating_rolling</th>\n",
       "      <th>rating_cum</th>\n",
       "      <th>review_time_diff</th>\n",
       "      <th>review_months</th>\n",
       "    </tr>\n",
       "    <tr>\n",
       "      <th>review_hour</th>\n",
       "      <th></th>\n",
       "      <th></th>\n",
       "      <th></th>\n",
       "      <th></th>\n",
       "      <th></th>\n",
       "      <th></th>\n",
       "      <th></th>\n",
       "    </tr>\n",
       "  </thead>\n",
       "  <tbody>\n",
       "    <tr>\n",
       "      <th>0</th>\n",
       "      <td>1.603563e+09</td>\n",
       "      <td>4.360000</td>\n",
       "      <td>1.120000</td>\n",
       "      <td>4.400417</td>\n",
       "      <td>4.355529</td>\n",
       "      <td>19.465489</td>\n",
       "      <td>20.240000</td>\n",
       "    </tr>\n",
       "    <tr>\n",
       "      <th>1</th>\n",
       "      <td>1.624684e+09</td>\n",
       "      <td>4.615385</td>\n",
       "      <td>0.846154</td>\n",
       "      <td>4.382308</td>\n",
       "      <td>4.328314</td>\n",
       "      <td>14.863248</td>\n",
       "      <td>24.461538</td>\n",
       "    </tr>\n",
       "    <tr>\n",
       "      <th>2</th>\n",
       "      <td>1.652276e+09</td>\n",
       "      <td>4.600000</td>\n",
       "      <td>1.400000</td>\n",
       "      <td>4.350000</td>\n",
       "      <td>4.318621</td>\n",
       "      <td>13.844000</td>\n",
       "      <td>21.400000</td>\n",
       "    </tr>\n",
       "    <tr>\n",
       "      <th>3</th>\n",
       "      <td>1.635766e+09</td>\n",
       "      <td>4.200000</td>\n",
       "      <td>0.200000</td>\n",
       "      <td>4.572000</td>\n",
       "      <td>4.340524</td>\n",
       "      <td>5.059444</td>\n",
       "      <td>36.600000</td>\n",
       "    </tr>\n",
       "    <tr>\n",
       "      <th>4</th>\n",
       "      <td>1.644749e+09</td>\n",
       "      <td>4.000000</td>\n",
       "      <td>0.750000</td>\n",
       "      <td>4.467500</td>\n",
       "      <td>4.338778</td>\n",
       "      <td>9.556250</td>\n",
       "      <td>28.750000</td>\n",
       "    </tr>\n",
       "    <tr>\n",
       "      <th>5</th>\n",
       "      <td>1.631594e+09</td>\n",
       "      <td>4.344828</td>\n",
       "      <td>1.103448</td>\n",
       "      <td>4.419286</td>\n",
       "      <td>4.318574</td>\n",
       "      <td>12.297040</td>\n",
       "      <td>27.758621</td>\n",
       "    </tr>\n",
       "    <tr>\n",
       "      <th>6</th>\n",
       "      <td>1.614822e+09</td>\n",
       "      <td>4.095238</td>\n",
       "      <td>0.761905</td>\n",
       "      <td>4.396500</td>\n",
       "      <td>4.324262</td>\n",
       "      <td>13.059180</td>\n",
       "      <td>24.619048</td>\n",
       "    </tr>\n",
       "    <tr>\n",
       "      <th>7</th>\n",
       "      <td>1.602633e+09</td>\n",
       "      <td>4.625000</td>\n",
       "      <td>0.958333</td>\n",
       "      <td>4.375556</td>\n",
       "      <td>4.359711</td>\n",
       "      <td>10.982361</td>\n",
       "      <td>22.750000</td>\n",
       "    </tr>\n",
       "    <tr>\n",
       "      <th>8</th>\n",
       "      <td>1.619692e+09</td>\n",
       "      <td>4.232143</td>\n",
       "      <td>0.839286</td>\n",
       "      <td>4.396415</td>\n",
       "      <td>4.331680</td>\n",
       "      <td>9.657872</td>\n",
       "      <td>27.392857</td>\n",
       "    </tr>\n",
       "    <tr>\n",
       "      <th>9</th>\n",
       "      <td>1.614056e+09</td>\n",
       "      <td>4.385542</td>\n",
       "      <td>0.795181</td>\n",
       "      <td>4.382727</td>\n",
       "      <td>4.337616</td>\n",
       "      <td>16.760749</td>\n",
       "      <td>24.313253</td>\n",
       "    </tr>\n",
       "    <tr>\n",
       "      <th>10</th>\n",
       "      <td>1.627774e+09</td>\n",
       "      <td>4.415385</td>\n",
       "      <td>1.000000</td>\n",
       "      <td>4.383175</td>\n",
       "      <td>4.337934</td>\n",
       "      <td>23.822906</td>\n",
       "      <td>26.461538</td>\n",
       "    </tr>\n",
       "    <tr>\n",
       "      <th>11</th>\n",
       "      <td>1.610728e+09</td>\n",
       "      <td>4.397260</td>\n",
       "      <td>0.767123</td>\n",
       "      <td>4.415373</td>\n",
       "      <td>4.336455</td>\n",
       "      <td>45.316651</td>\n",
       "      <td>25.520548</td>\n",
       "    </tr>\n",
       "    <tr>\n",
       "      <th>12</th>\n",
       "      <td>1.606003e+09</td>\n",
       "      <td>4.414894</td>\n",
       "      <td>0.968085</td>\n",
       "      <td>4.395000</td>\n",
       "      <td>4.344465</td>\n",
       "      <td>13.827905</td>\n",
       "      <td>23.180851</td>\n",
       "    </tr>\n",
       "    <tr>\n",
       "      <th>13</th>\n",
       "      <td>1.611346e+09</td>\n",
       "      <td>4.319672</td>\n",
       "      <td>0.713115</td>\n",
       "      <td>4.345676</td>\n",
       "      <td>4.332997</td>\n",
       "      <td>16.196667</td>\n",
       "      <td>21.204918</td>\n",
       "    </tr>\n",
       "    <tr>\n",
       "      <th>14</th>\n",
       "      <td>1.618558e+09</td>\n",
       "      <td>4.503759</td>\n",
       "      <td>0.924812</td>\n",
       "      <td>4.376935</td>\n",
       "      <td>4.326348</td>\n",
       "      <td>18.147922</td>\n",
       "      <td>25.150376</td>\n",
       "    </tr>\n",
       "    <tr>\n",
       "      <th>15</th>\n",
       "      <td>1.617931e+09</td>\n",
       "      <td>4.194690</td>\n",
       "      <td>0.646018</td>\n",
       "      <td>4.377273</td>\n",
       "      <td>4.331561</td>\n",
       "      <td>14.803402</td>\n",
       "      <td>23.053097</td>\n",
       "    </tr>\n",
       "    <tr>\n",
       "      <th>16</th>\n",
       "      <td>1.624987e+09</td>\n",
       "      <td>4.388235</td>\n",
       "      <td>0.811765</td>\n",
       "      <td>4.346341</td>\n",
       "      <td>4.319705</td>\n",
       "      <td>20.890438</td>\n",
       "      <td>23.682353</td>\n",
       "    </tr>\n",
       "    <tr>\n",
       "      <th>17</th>\n",
       "      <td>1.599103e+09</td>\n",
       "      <td>4.554217</td>\n",
       "      <td>0.951807</td>\n",
       "      <td>4.339595</td>\n",
       "      <td>4.322952</td>\n",
       "      <td>26.303317</td>\n",
       "      <td>22.518072</td>\n",
       "    </tr>\n",
       "    <tr>\n",
       "      <th>18</th>\n",
       "      <td>1.616095e+09</td>\n",
       "      <td>4.543210</td>\n",
       "      <td>1.024691</td>\n",
       "      <td>4.386623</td>\n",
       "      <td>4.326877</td>\n",
       "      <td>15.696190</td>\n",
       "      <td>25.679012</td>\n",
       "    </tr>\n",
       "    <tr>\n",
       "      <th>19</th>\n",
       "      <td>1.617043e+09</td>\n",
       "      <td>4.470588</td>\n",
       "      <td>0.892157</td>\n",
       "      <td>4.414021</td>\n",
       "      <td>4.333151</td>\n",
       "      <td>17.996631</td>\n",
       "      <td>24.245098</td>\n",
       "    </tr>\n",
       "    <tr>\n",
       "      <th>20</th>\n",
       "      <td>1.604515e+09</td>\n",
       "      <td>4.397059</td>\n",
       "      <td>1.022059</td>\n",
       "      <td>4.398548</td>\n",
       "      <td>4.325714</td>\n",
       "      <td>12.861197</td>\n",
       "      <td>21.558824</td>\n",
       "    </tr>\n",
       "    <tr>\n",
       "      <th>21</th>\n",
       "      <td>1.614679e+09</td>\n",
       "      <td>4.376471</td>\n",
       "      <td>0.970588</td>\n",
       "      <td>4.366750</td>\n",
       "      <td>4.324179</td>\n",
       "      <td>14.795757</td>\n",
       "      <td>25.023529</td>\n",
       "    </tr>\n",
       "    <tr>\n",
       "      <th>22</th>\n",
       "      <td>1.630156e+09</td>\n",
       "      <td>4.343750</td>\n",
       "      <td>0.864583</td>\n",
       "      <td>4.356452</td>\n",
       "      <td>4.320337</td>\n",
       "      <td>14.859708</td>\n",
       "      <td>24.479167</td>\n",
       "    </tr>\n",
       "    <tr>\n",
       "      <th>23</th>\n",
       "      <td>1.626781e+09</td>\n",
       "      <td>4.181818</td>\n",
       "      <td>0.672727</td>\n",
       "      <td>4.375636</td>\n",
       "      <td>4.333279</td>\n",
       "      <td>15.934086</td>\n",
       "      <td>23.709091</td>\n",
       "    </tr>\n",
       "  </tbody>\n",
       "</table>\n",
       "</div>"
      ],
      "text/plain": [
       "             owner_answer_timestamp  review_rating  review_likes  \\\n",
       "review_hour                                                        \n",
       "0                      1.603563e+09       4.360000      1.120000   \n",
       "1                      1.624684e+09       4.615385      0.846154   \n",
       "2                      1.652276e+09       4.600000      1.400000   \n",
       "3                      1.635766e+09       4.200000      0.200000   \n",
       "4                      1.644749e+09       4.000000      0.750000   \n",
       "5                      1.631594e+09       4.344828      1.103448   \n",
       "6                      1.614822e+09       4.095238      0.761905   \n",
       "7                      1.602633e+09       4.625000      0.958333   \n",
       "8                      1.619692e+09       4.232143      0.839286   \n",
       "9                      1.614056e+09       4.385542      0.795181   \n",
       "10                     1.627774e+09       4.415385      1.000000   \n",
       "11                     1.610728e+09       4.397260      0.767123   \n",
       "12                     1.606003e+09       4.414894      0.968085   \n",
       "13                     1.611346e+09       4.319672      0.713115   \n",
       "14                     1.618558e+09       4.503759      0.924812   \n",
       "15                     1.617931e+09       4.194690      0.646018   \n",
       "16                     1.624987e+09       4.388235      0.811765   \n",
       "17                     1.599103e+09       4.554217      0.951807   \n",
       "18                     1.616095e+09       4.543210      1.024691   \n",
       "19                     1.617043e+09       4.470588      0.892157   \n",
       "20                     1.604515e+09       4.397059      1.022059   \n",
       "21                     1.614679e+09       4.376471      0.970588   \n",
       "22                     1.630156e+09       4.343750      0.864583   \n",
       "23                     1.626781e+09       4.181818      0.672727   \n",
       "\n",
       "             rating_rolling  rating_cum  review_time_diff  review_months  \n",
       "review_hour                                                               \n",
       "0                  4.400417    4.355529         19.465489      20.240000  \n",
       "1                  4.382308    4.328314         14.863248      24.461538  \n",
       "2                  4.350000    4.318621         13.844000      21.400000  \n",
       "3                  4.572000    4.340524          5.059444      36.600000  \n",
       "4                  4.467500    4.338778          9.556250      28.750000  \n",
       "5                  4.419286    4.318574         12.297040      27.758621  \n",
       "6                  4.396500    4.324262         13.059180      24.619048  \n",
       "7                  4.375556    4.359711         10.982361      22.750000  \n",
       "8                  4.396415    4.331680          9.657872      27.392857  \n",
       "9                  4.382727    4.337616         16.760749      24.313253  \n",
       "10                 4.383175    4.337934         23.822906      26.461538  \n",
       "11                 4.415373    4.336455         45.316651      25.520548  \n",
       "12                 4.395000    4.344465         13.827905      23.180851  \n",
       "13                 4.345676    4.332997         16.196667      21.204918  \n",
       "14                 4.376935    4.326348         18.147922      25.150376  \n",
       "15                 4.377273    4.331561         14.803402      23.053097  \n",
       "16                 4.346341    4.319705         20.890438      23.682353  \n",
       "17                 4.339595    4.322952         26.303317      22.518072  \n",
       "18                 4.386623    4.326877         15.696190      25.679012  \n",
       "19                 4.414021    4.333151         17.996631      24.245098  \n",
       "20                 4.398548    4.325714         12.861197      21.558824  \n",
       "21                 4.366750    4.324179         14.795757      25.023529  \n",
       "22                 4.356452    4.320337         14.859708      24.479167  \n",
       "23                 4.375636    4.333279         15.934086      23.709091  "
      ]
     },
     "execution_count": 346,
     "metadata": {},
     "output_type": "execute_result"
    }
   ],
   "source": [
    "df.groupby(df['review_hour']).mean()"
   ]
  },
  {
   "cell_type": "code",
   "execution_count": 347,
   "id": "5a9d4386",
   "metadata": {},
   "outputs": [
    {
     "data": {
      "text/plain": [
       "<AxesSubplot:xlabel='review_hour', ylabel='review_rating'>"
      ]
     },
     "execution_count": 347,
     "metadata": {},
     "output_type": "execute_result"
    },
    {
     "data": {
      "image/png": "[encoded data removed]",
      "text/plain": [
       "<Figure size 432x288 with 1 Axes>"
      ]
     },
     "metadata": {
      "needs_background": "light"
     },
     "output_type": "display_data"
    }
   ],
   "source": [
    "sns.barplot(x=df.groupby(df['review_hour']).mean().index,y=df.groupby(df['review_hour']).mean()['review_rating'],color='blue')"
   ]
  },
  {
   "cell_type": "code",
   "execution_count": 348,
   "id": "f98053b0",
   "metadata": {},
   "outputs": [
    {
     "data": {
      "text/plain": [
       "<AxesSubplot:xlabel='review_hour', ylabel='count'>"
      ]
     },
     "execution_count": 348,
     "metadata": {},
     "output_type": "execute_result"
    },
    {
     "data": {
      "image/png": "[encoded data removed]",
      "text/plain": [
       "<Figure size 864x576 with 1 Axes>"
      ]
     },
     "metadata": {
      "needs_background": "light"
     },
     "output_type": "display_data"
    }
   ],
   "source": [
    "plt.figure(figsize=(12,8))\n",
    "sns.countplot(data=df,x='review_hour',hue='text_yn')"
   ]
  },
  {
   "cell_type": "code",
   "execution_count": null,
   "id": "1eefa33e",
   "metadata": {},
   "outputs": [],
   "source": []
  }
 ],
 "metadata": {
  "kernelspec": {
   "display_name": "Python 3 (ipykernel)",
   "language": "python",
   "name": "python3"
  },
  "language_info": {
   "codemirror_mode": {
    "name": "ipython",
    "version": 3
   },
   "file_extension": ".py",
   "mimetype": "text/x-python",
   "name": "python",
   "nbconvert_exporter": "python",
   "pygments_lexer": "ipython3",
   "version": "3.9.12"
  }
 },
 "nbformat": 4,
 "nbformat_minor": 5
}
