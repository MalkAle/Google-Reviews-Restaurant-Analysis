{
 "cells": [
  {
   "cell_type": "code",
   "execution_count": 551,
   "id": "989ca3a0",
   "metadata": {},
   "outputs": [],
   "source": [
    "import pandas as pd\n",
    "import numpy as np"
   ]
  },
  {
   "cell_type": "code",
   "execution_count": 552,
   "id": "8bbdd848",
   "metadata": {},
   "outputs": [],
   "source": [
    "import seaborn as sns\n",
    "import matplotlib.pyplot as plt\n",
    "%matplotlib inline"
   ]
  },
  {
   "cell_type": "code",
   "execution_count": 553,
   "id": "a1027bc7",
   "metadata": {},
   "outputs": [],
   "source": [
    "from datetime import datetime, timedelta\n",
    "from dateutil import relativedelta"
   ]
  },
  {
   "cell_type": "code",
   "execution_count": 554,
   "id": "778862f7",
   "metadata": {},
   "outputs": [],
   "source": [
    "df = pd.read_csv(\"Smoke_House_Google_Reviews.csv\")"
   ]
  },
  {
   "cell_type": "code",
   "execution_count": 555,
   "id": "6e739480",
   "metadata": {},
   "outputs": [
    {
     "name": "stdout",
     "output_type": "stream",
     "text": [
      "<class 'pandas.core.frame.DataFrame'>\n",
      "RangeIndex: 1722 entries, 0 to 1721\n",
      "Data columns (total 25 columns):\n",
      " #   Column                               Non-Null Count  Dtype  \n",
      "---  ------                               --------------  -----  \n",
      " 0   query                                1722 non-null   object \n",
      " 1   name                                 1722 non-null   object \n",
      " 2   google_id                            1722 non-null   object \n",
      " 3   place_id                             1722 non-null   object \n",
      " 4   location_link                        1722 non-null   object \n",
      " 5   reviews_link                         1722 non-null   object \n",
      " 6   reviews_per_score                    1722 non-null   object \n",
      " 7   reviews                              1722 non-null   int64  \n",
      " 8   rating                               1722 non-null   float64\n",
      " 9   review_id                            1722 non-null   object \n",
      " 10  author_link                          1722 non-null   object \n",
      " 11  author_title                         1722 non-null   object \n",
      " 12  author_id                            1722 non-null   object \n",
      " 13  author_image                         1722 non-null   object \n",
      " 14  review_text                          1143 non-null   object \n",
      " 15  review_img_url                       1722 non-null   object \n",
      " 16  owner_answer                         542 non-null    object \n",
      " 17  owner_answer_timestamp               542 non-null    float64\n",
      " 18  owner_answer_timestamp_datetime_utc  542 non-null    object \n",
      " 19  review_link                          1722 non-null   object \n",
      " 20  review_rating                        1722 non-null   int64  \n",
      " 21  review_timestamp                     1722 non-null   int64  \n",
      " 22  review_datetime_utc                  1722 non-null   object \n",
      " 23  review_likes                         1722 non-null   int64  \n",
      " 24  reviews_id                           1722 non-null   int64  \n",
      "dtypes: float64(2), int64(5), object(18)\n",
      "memory usage: 336.5+ KB\n"
     ]
    }
   ],
   "source": [
    "df.info()"
   ]
  },
  {
   "cell_type": "code",
   "execution_count": 556,
   "id": "bf395457",
   "metadata": {},
   "outputs": [
    {
     "data": {
      "text/html": [
       "<div>\n",
       "<style scoped>\n",
       "    .dataframe tbody tr th:only-of-type {\n",
       "        vertical-align: middle;\n",
       "    }\n",
       "\n",
       "    .dataframe tbody tr th {\n",
       "        vertical-align: top;\n",
       "    }\n",
       "\n",
       "    .dataframe thead th {\n",
       "        text-align: right;\n",
       "    }\n",
       "</style>\n",
       "<table border=\"1\" class=\"dataframe\">\n",
       "  <thead>\n",
       "    <tr style=\"text-align: right;\">\n",
       "      <th></th>\n",
       "      <th>reviews</th>\n",
       "      <th>rating</th>\n",
       "      <th>owner_answer_timestamp</th>\n",
       "      <th>review_rating</th>\n",
       "      <th>review_timestamp</th>\n",
       "      <th>review_likes</th>\n",
       "      <th>reviews_id</th>\n",
       "    </tr>\n",
       "  </thead>\n",
       "  <tbody>\n",
       "    <tr>\n",
       "      <th>count</th>\n",
       "      <td>1722.0</td>\n",
       "      <td>1.722000e+03</td>\n",
       "      <td>5.420000e+02</td>\n",
       "      <td>1722.000000</td>\n",
       "      <td>1.722000e+03</td>\n",
       "      <td>1722.000000</td>\n",
       "      <td>1.722000e+03</td>\n",
       "    </tr>\n",
       "    <tr>\n",
       "      <th>mean</th>\n",
       "      <td>1722.0</td>\n",
       "      <td>4.400000e+00</td>\n",
       "      <td>1.615743e+09</td>\n",
       "      <td>4.386179</td>\n",
       "      <td>1.617665e+09</td>\n",
       "      <td>0.880952</td>\n",
       "      <td>-3.366351e+18</td>\n",
       "    </tr>\n",
       "    <tr>\n",
       "      <th>std</th>\n",
       "      <td>0.0</td>\n",
       "      <td>1.332655e-13</td>\n",
       "      <td>3.587611e+07</td>\n",
       "      <td>1.055736</td>\n",
       "      <td>3.538155e+07</td>\n",
       "      <td>1.036407</td>\n",
       "      <td>1.316222e+05</td>\n",
       "    </tr>\n",
       "    <tr>\n",
       "      <th>min</th>\n",
       "      <td>1722.0</td>\n",
       "      <td>4.400000e+00</td>\n",
       "      <td>1.553254e+09</td>\n",
       "      <td>1.000000</td>\n",
       "      <td>1.552980e+09</td>\n",
       "      <td>0.000000</td>\n",
       "      <td>-3.366351e+18</td>\n",
       "    </tr>\n",
       "    <tr>\n",
       "      <th>25%</th>\n",
       "      <td>1722.0</td>\n",
       "      <td>4.400000e+00</td>\n",
       "      <td>1.581081e+09</td>\n",
       "      <td>4.000000</td>\n",
       "      <td>1.579928e+09</td>\n",
       "      <td>0.000000</td>\n",
       "      <td>-3.366351e+18</td>\n",
       "    </tr>\n",
       "    <tr>\n",
       "      <th>50%</th>\n",
       "      <td>1722.0</td>\n",
       "      <td>4.400000e+00</td>\n",
       "      <td>1.636883e+09</td>\n",
       "      <td>5.000000</td>\n",
       "      <td>1.631205e+09</td>\n",
       "      <td>1.000000</td>\n",
       "      <td>-3.366351e+18</td>\n",
       "    </tr>\n",
       "    <tr>\n",
       "      <th>75%</th>\n",
       "      <td>1722.0</td>\n",
       "      <td>4.400000e+00</td>\n",
       "      <td>1.642868e+09</td>\n",
       "      <td>5.000000</td>\n",
       "      <td>1.648475e+09</td>\n",
       "      <td>1.000000</td>\n",
       "      <td>-3.366351e+18</td>\n",
       "    </tr>\n",
       "    <tr>\n",
       "      <th>max</th>\n",
       "      <td>1722.0</td>\n",
       "      <td>4.400000e+00</td>\n",
       "      <td>1.660479e+09</td>\n",
       "      <td>5.000000</td>\n",
       "      <td>1.661161e+09</td>\n",
       "      <td>8.000000</td>\n",
       "      <td>-3.366351e+18</td>\n",
       "    </tr>\n",
       "  </tbody>\n",
       "</table>\n",
       "</div>"
      ],
      "text/plain": [
       "       reviews        rating  owner_answer_timestamp  review_rating  \\\n",
       "count   1722.0  1.722000e+03         5.420000e+02       1722.000000   \n",
       "mean    1722.0  4.400000e+00         1.615743e+09          4.386179   \n",
       "std        0.0  1.332655e-13         3.587611e+07          1.055736   \n",
       "min     1722.0  4.400000e+00         1.553254e+09          1.000000   \n",
       "25%     1722.0  4.400000e+00         1.581081e+09          4.000000   \n",
       "50%     1722.0  4.400000e+00         1.636883e+09          5.000000   \n",
       "75%     1722.0  4.400000e+00         1.642868e+09          5.000000   \n",
       "max     1722.0  4.400000e+00         1.660479e+09          5.000000   \n",
       "\n",
       "       review_timestamp  review_likes    reviews_id  \n",
       "count      1.722000e+03   1722.000000  1.722000e+03  \n",
       "mean       1.617665e+09      0.880952 -3.366351e+18  \n",
       "std        3.538155e+07      1.036407  1.316222e+05  \n",
       "min        1.552980e+09      0.000000 -3.366351e+18  \n",
       "25%        1.579928e+09      0.000000 -3.366351e+18  \n",
       "50%        1.631205e+09      1.000000 -3.366351e+18  \n",
       "75%        1.648475e+09      1.000000 -3.366351e+18  \n",
       "max        1.661161e+09      8.000000 -3.366351e+18  "
      ]
     },
     "execution_count": 556,
     "metadata": {},
     "output_type": "execute_result"
    }
   ],
   "source": [
    "df.describe()"
   ]
  },
  {
   "cell_type": "code",
   "execution_count": 557,
   "id": "5af9dcc0",
   "metadata": {},
   "outputs": [
    {
     "data": {
      "text/html": [
       "<div>\n",
       "<style scoped>\n",
       "    .dataframe tbody tr th:only-of-type {\n",
       "        vertical-align: middle;\n",
       "    }\n",
       "\n",
       "    .dataframe tbody tr th {\n",
       "        vertical-align: top;\n",
       "    }\n",
       "\n",
       "    .dataframe thead th {\n",
       "        text-align: right;\n",
       "    }\n",
       "</style>\n",
       "<table border=\"1\" class=\"dataframe\">\n",
       "  <thead>\n",
       "    <tr style=\"text-align: right;\">\n",
       "      <th></th>\n",
       "      <th>query</th>\n",
       "      <th>name</th>\n",
       "      <th>google_id</th>\n",
       "      <th>place_id</th>\n",
       "      <th>location_link</th>\n",
       "      <th>reviews_link</th>\n",
       "      <th>reviews_per_score</th>\n",
       "      <th>reviews</th>\n",
       "      <th>rating</th>\n",
       "      <th>review_id</th>\n",
       "      <th>...</th>\n",
       "      <th>review_img_url</th>\n",
       "      <th>owner_answer</th>\n",
       "      <th>owner_answer_timestamp</th>\n",
       "      <th>owner_answer_timestamp_datetime_utc</th>\n",
       "      <th>review_link</th>\n",
       "      <th>review_rating</th>\n",
       "      <th>review_timestamp</th>\n",
       "      <th>review_datetime_utc</th>\n",
       "      <th>review_likes</th>\n",
       "      <th>reviews_id</th>\n",
       "    </tr>\n",
       "  </thead>\n",
       "  <tbody>\n",
       "    <tr>\n",
       "      <th>0</th>\n",
       "      <td>https://www.goog...</td>\n",
       "      <td>The Ranch Smokeh...</td>\n",
       "      <td>0x12a4a30de709af...</td>\n",
       "      <td>ChIJ168J5w2jpBIR...</td>\n",
       "      <td>https://www.goog...</td>\n",
       "      <td>https://search.g...</td>\n",
       "      <td>{\"1\": 82, \"2\": 4...</td>\n",
       "      <td>1722</td>\n",
       "      <td>4.4</td>\n",
       "      <td>ChZDSUhNMG9nS0VJ...</td>\n",
       "      <td>...</td>\n",
       "      <td>https://lh5.goog...</td>\n",
       "      <td>NaN</td>\n",
       "      <td>NaN</td>\n",
       "      <td>NaN</td>\n",
       "      <td>https://www.goog...</td>\n",
       "      <td>5</td>\n",
       "      <td>1661161121</td>\n",
       "      <td>08/22/2022 09:38:41</td>\n",
       "      <td>0</td>\n",
       "      <td>-3366350722704842035</td>\n",
       "    </tr>\n",
       "    <tr>\n",
       "      <th>1</th>\n",
       "      <td>https://www.goog...</td>\n",
       "      <td>The Ranch Smokeh...</td>\n",
       "      <td>0x12a4a30de709af...</td>\n",
       "      <td>ChIJ168J5w2jpBIR...</td>\n",
       "      <td>https://www.goog...</td>\n",
       "      <td>https://search.g...</td>\n",
       "      <td>{\"1\": 82, \"2\": 4...</td>\n",
       "      <td>1722</td>\n",
       "      <td>4.4</td>\n",
       "      <td>ChZDSUhNMG9nS0VJ...</td>\n",
       "      <td>...</td>\n",
       "      <td>https://lh5.goog...</td>\n",
       "      <td>NaN</td>\n",
       "      <td>NaN</td>\n",
       "      <td>NaN</td>\n",
       "      <td>https://www.goog...</td>\n",
       "      <td>5</td>\n",
       "      <td>1661152489</td>\n",
       "      <td>08/22/2022 07:14:49</td>\n",
       "      <td>1</td>\n",
       "      <td>-3366350722704842035</td>\n",
       "    </tr>\n",
       "    <tr>\n",
       "      <th>2</th>\n",
       "      <td>https://www.goog...</td>\n",
       "      <td>The Ranch Smokeh...</td>\n",
       "      <td>0x12a4a30de709af...</td>\n",
       "      <td>ChIJ168J5w2jpBIR...</td>\n",
       "      <td>https://www.goog...</td>\n",
       "      <td>https://search.g...</td>\n",
       "      <td>{\"1\": 82, \"2\": 4...</td>\n",
       "      <td>1722</td>\n",
       "      <td>4.4</td>\n",
       "      <td>ChZDSUhNMG9nS0VJ...</td>\n",
       "      <td>...</td>\n",
       "      <td>https://lh3.goog...</td>\n",
       "      <td>NaN</td>\n",
       "      <td>NaN</td>\n",
       "      <td>NaN</td>\n",
       "      <td>https://www.goog...</td>\n",
       "      <td>4</td>\n",
       "      <td>1661120357</td>\n",
       "      <td>08/21/2022 22:19:17</td>\n",
       "      <td>0</td>\n",
       "      <td>-3366350722704842035</td>\n",
       "    </tr>\n",
       "    <tr>\n",
       "      <th>3</th>\n",
       "      <td>https://www.goog...</td>\n",
       "      <td>The Ranch Smokeh...</td>\n",
       "      <td>0x12a4a30de709af...</td>\n",
       "      <td>ChIJ168J5w2jpBIR...</td>\n",
       "      <td>https://www.goog...</td>\n",
       "      <td>https://search.g...</td>\n",
       "      <td>{\"1\": 82, \"2\": 4...</td>\n",
       "      <td>1722</td>\n",
       "      <td>4.4</td>\n",
       "      <td>ChdDSUhNMG9nS0VJ...</td>\n",
       "      <td>...</td>\n",
       "      <td>https://lh3.goog...</td>\n",
       "      <td>NaN</td>\n",
       "      <td>NaN</td>\n",
       "      <td>NaN</td>\n",
       "      <td>https://www.goog...</td>\n",
       "      <td>5</td>\n",
       "      <td>1661114131</td>\n",
       "      <td>08/21/2022 20:35:31</td>\n",
       "      <td>1</td>\n",
       "      <td>-3366350722704842035</td>\n",
       "    </tr>\n",
       "    <tr>\n",
       "      <th>4</th>\n",
       "      <td>https://www.goog...</td>\n",
       "      <td>The Ranch Smokeh...</td>\n",
       "      <td>0x12a4a30de709af...</td>\n",
       "      <td>ChIJ168J5w2jpBIR...</td>\n",
       "      <td>https://www.goog...</td>\n",
       "      <td>https://search.g...</td>\n",
       "      <td>{\"1\": 82, \"2\": 4...</td>\n",
       "      <td>1722</td>\n",
       "      <td>4.4</td>\n",
       "      <td>ChZDSUhNMG9nS0VJ...</td>\n",
       "      <td>...</td>\n",
       "      <td>https://lh5.goog...</td>\n",
       "      <td>NaN</td>\n",
       "      <td>NaN</td>\n",
       "      <td>NaN</td>\n",
       "      <td>https://www.goog...</td>\n",
       "      <td>5</td>\n",
       "      <td>1661097601</td>\n",
       "      <td>08/21/2022 16:00:01</td>\n",
       "      <td>1</td>\n",
       "      <td>-3366350722704842035</td>\n",
       "    </tr>\n",
       "    <tr>\n",
       "      <th>...</th>\n",
       "      <td>...</td>\n",
       "      <td>...</td>\n",
       "      <td>...</td>\n",
       "      <td>...</td>\n",
       "      <td>...</td>\n",
       "      <td>...</td>\n",
       "      <td>...</td>\n",
       "      <td>...</td>\n",
       "      <td>...</td>\n",
       "      <td>...</td>\n",
       "      <td>...</td>\n",
       "      <td>...</td>\n",
       "      <td>...</td>\n",
       "      <td>...</td>\n",
       "      <td>...</td>\n",
       "      <td>...</td>\n",
       "      <td>...</td>\n",
       "      <td>...</td>\n",
       "      <td>...</td>\n",
       "      <td>...</td>\n",
       "      <td>...</td>\n",
       "    </tr>\n",
       "    <tr>\n",
       "      <th>1717</th>\n",
       "      <td>https://www.goog...</td>\n",
       "      <td>The Ranch Smokeh...</td>\n",
       "      <td>0x12a4a30de709af...</td>\n",
       "      <td>ChIJ168J5w2jpBIR...</td>\n",
       "      <td>https://www.goog...</td>\n",
       "      <td>https://search.g...</td>\n",
       "      <td>{\"1\": 82, \"2\": 4...</td>\n",
       "      <td>1722</td>\n",
       "      <td>4.4</td>\n",
       "      <td>ChZDSUhNMG9nS0VJ...</td>\n",
       "      <td>...</td>\n",
       "      <td>https://lh3.goog...</td>\n",
       "      <td>(Translated by G...</td>\n",
       "      <td>1.553501e+09</td>\n",
       "      <td>03/25/2019 07:56:08</td>\n",
       "      <td>https://www.goog...</td>\n",
       "      <td>5</td>\n",
       "      <td>1553347909</td>\n",
       "      <td>03/23/2019 13:31:49</td>\n",
       "      <td>3</td>\n",
       "      <td>-3366350722704842035</td>\n",
       "    </tr>\n",
       "    <tr>\n",
       "      <th>1718</th>\n",
       "      <td>https://www.goog...</td>\n",
       "      <td>The Ranch Smokeh...</td>\n",
       "      <td>0x12a4a30de709af...</td>\n",
       "      <td>ChIJ168J5w2jpBIR...</td>\n",
       "      <td>https://www.goog...</td>\n",
       "      <td>https://search.g...</td>\n",
       "      <td>{\"1\": 82, \"2\": 4...</td>\n",
       "      <td>1722</td>\n",
       "      <td>4.4</td>\n",
       "      <td>ChdDSUhNMG9nS0VJ...</td>\n",
       "      <td>...</td>\n",
       "      <td>https://lh3.goog...</td>\n",
       "      <td>(Translated by G...</td>\n",
       "      <td>1.553500e+09</td>\n",
       "      <td>03/25/2019 07:53:14</td>\n",
       "      <td>https://www.goog...</td>\n",
       "      <td>5</td>\n",
       "      <td>1553340937</td>\n",
       "      <td>03/23/2019 11:35:37</td>\n",
       "      <td>0</td>\n",
       "      <td>-3366350722704842035</td>\n",
       "    </tr>\n",
       "    <tr>\n",
       "      <th>1719</th>\n",
       "      <td>https://www.goog...</td>\n",
       "      <td>The Ranch Smokeh...</td>\n",
       "      <td>0x12a4a30de709af...</td>\n",
       "      <td>ChIJ168J5w2jpBIR...</td>\n",
       "      <td>https://www.goog...</td>\n",
       "      <td>https://search.g...</td>\n",
       "      <td>{\"1\": 82, \"2\": 4...</td>\n",
       "      <td>1722</td>\n",
       "      <td>4.4</td>\n",
       "      <td>ChdDSUhNMG9nS0VJ...</td>\n",
       "      <td>...</td>\n",
       "      <td>https://lh3.goog...</td>\n",
       "      <td>(Translated by G...</td>\n",
       "      <td>1.553254e+09</td>\n",
       "      <td>03/22/2019 11:27:46</td>\n",
       "      <td>https://www.goog...</td>\n",
       "      <td>5</td>\n",
       "      <td>1553250664</td>\n",
       "      <td>03/22/2019 10:31:04</td>\n",
       "      <td>4</td>\n",
       "      <td>-3366350722704842035</td>\n",
       "    </tr>\n",
       "    <tr>\n",
       "      <th>1720</th>\n",
       "      <td>https://www.goog...</td>\n",
       "      <td>The Ranch Smokeh...</td>\n",
       "      <td>0x12a4a30de709af...</td>\n",
       "      <td>ChIJ168J5w2jpBIR...</td>\n",
       "      <td>https://www.goog...</td>\n",
       "      <td>https://search.g...</td>\n",
       "      <td>{\"1\": 82, \"2\": 4...</td>\n",
       "      <td>1722</td>\n",
       "      <td>4.4</td>\n",
       "      <td>ChdDSUhNMG9nS0VJ...</td>\n",
       "      <td>...</td>\n",
       "      <td>https://lh3.goog...</td>\n",
       "      <td>(Translated by G...</td>\n",
       "      <td>1.553500e+09</td>\n",
       "      <td>03/25/2019 07:51:56</td>\n",
       "      <td>https://www.goog...</td>\n",
       "      <td>5</td>\n",
       "      <td>1553171051</td>\n",
       "      <td>03/21/2019 12:24:11</td>\n",
       "      <td>4</td>\n",
       "      <td>-3366350722704842035</td>\n",
       "    </tr>\n",
       "    <tr>\n",
       "      <th>1721</th>\n",
       "      <td>https://www.goog...</td>\n",
       "      <td>The Ranch Smokeh...</td>\n",
       "      <td>0x12a4a30de709af...</td>\n",
       "      <td>ChIJ168J5w2jpBIR...</td>\n",
       "      <td>https://www.goog...</td>\n",
       "      <td>https://search.g...</td>\n",
       "      <td>{\"1\": 82, \"2\": 4...</td>\n",
       "      <td>1722</td>\n",
       "      <td>4.4</td>\n",
       "      <td>ChdDSUhNMG9nS0VJ...</td>\n",
       "      <td>...</td>\n",
       "      <td>https://lh3.goog...</td>\n",
       "      <td>(Translated by G...</td>\n",
       "      <td>1.553500e+09</td>\n",
       "      <td>03/25/2019 07:46:37</td>\n",
       "      <td>https://www.goog...</td>\n",
       "      <td>5</td>\n",
       "      <td>1552979684</td>\n",
       "      <td>03/19/2019 07:14:44</td>\n",
       "      <td>4</td>\n",
       "      <td>-3366350722704842035</td>\n",
       "    </tr>\n",
       "  </tbody>\n",
       "</table>\n",
       "<p>1722 rows × 25 columns</p>\n",
       "</div>"
      ],
      "text/plain": [
       "                    query                 name            google_id  \\\n",
       "0     https://www.goog...  The Ranch Smokeh...  0x12a4a30de709af...   \n",
       "1     https://www.goog...  The Ranch Smokeh...  0x12a4a30de709af...   \n",
       "2     https://www.goog...  The Ranch Smokeh...  0x12a4a30de709af...   \n",
       "3     https://www.goog...  The Ranch Smokeh...  0x12a4a30de709af...   \n",
       "4     https://www.goog...  The Ranch Smokeh...  0x12a4a30de709af...   \n",
       "...                   ...                  ...                  ...   \n",
       "1717  https://www.goog...  The Ranch Smokeh...  0x12a4a30de709af...   \n",
       "1718  https://www.goog...  The Ranch Smokeh...  0x12a4a30de709af...   \n",
       "1719  https://www.goog...  The Ranch Smokeh...  0x12a4a30de709af...   \n",
       "1720  https://www.goog...  The Ranch Smokeh...  0x12a4a30de709af...   \n",
       "1721  https://www.goog...  The Ranch Smokeh...  0x12a4a30de709af...   \n",
       "\n",
       "                 place_id        location_link         reviews_link  \\\n",
       "0     ChIJ168J5w2jpBIR...  https://www.goog...  https://search.g...   \n",
       "1     ChIJ168J5w2jpBIR...  https://www.goog...  https://search.g...   \n",
       "2     ChIJ168J5w2jpBIR...  https://www.goog...  https://search.g...   \n",
       "3     ChIJ168J5w2jpBIR...  https://www.goog...  https://search.g...   \n",
       "4     ChIJ168J5w2jpBIR...  https://www.goog...  https://search.g...   \n",
       "...                   ...                  ...                  ...   \n",
       "1717  ChIJ168J5w2jpBIR...  https://www.goog...  https://search.g...   \n",
       "1718  ChIJ168J5w2jpBIR...  https://www.goog...  https://search.g...   \n",
       "1719  ChIJ168J5w2jpBIR...  https://www.goog...  https://search.g...   \n",
       "1720  ChIJ168J5w2jpBIR...  https://www.goog...  https://search.g...   \n",
       "1721  ChIJ168J5w2jpBIR...  https://www.goog...  https://search.g...   \n",
       "\n",
       "        reviews_per_score  reviews  rating            review_id  ...  \\\n",
       "0     {\"1\": 82, \"2\": 4...     1722     4.4  ChZDSUhNMG9nS0VJ...  ...   \n",
       "1     {\"1\": 82, \"2\": 4...     1722     4.4  ChZDSUhNMG9nS0VJ...  ...   \n",
       "2     {\"1\": 82, \"2\": 4...     1722     4.4  ChZDSUhNMG9nS0VJ...  ...   \n",
       "3     {\"1\": 82, \"2\": 4...     1722     4.4  ChdDSUhNMG9nS0VJ...  ...   \n",
       "4     {\"1\": 82, \"2\": 4...     1722     4.4  ChZDSUhNMG9nS0VJ...  ...   \n",
       "...                   ...      ...     ...                  ...  ...   \n",
       "1717  {\"1\": 82, \"2\": 4...     1722     4.4  ChZDSUhNMG9nS0VJ...  ...   \n",
       "1718  {\"1\": 82, \"2\": 4...     1722     4.4  ChdDSUhNMG9nS0VJ...  ...   \n",
       "1719  {\"1\": 82, \"2\": 4...     1722     4.4  ChdDSUhNMG9nS0VJ...  ...   \n",
       "1720  {\"1\": 82, \"2\": 4...     1722     4.4  ChdDSUhNMG9nS0VJ...  ...   \n",
       "1721  {\"1\": 82, \"2\": 4...     1722     4.4  ChdDSUhNMG9nS0VJ...  ...   \n",
       "\n",
       "           review_img_url         owner_answer owner_answer_timestamp  \\\n",
       "0     https://lh5.goog...                  NaN                  NaN     \n",
       "1     https://lh5.goog...                  NaN                  NaN     \n",
       "2     https://lh3.goog...                  NaN                  NaN     \n",
       "3     https://lh3.goog...                  NaN                  NaN     \n",
       "4     https://lh5.goog...                  NaN                  NaN     \n",
       "...                   ...                  ...                  ...     \n",
       "1717  https://lh3.goog...  (Translated by G...         1.553501e+09     \n",
       "1718  https://lh3.goog...  (Translated by G...         1.553500e+09     \n",
       "1719  https://lh3.goog...  (Translated by G...         1.553254e+09     \n",
       "1720  https://lh3.goog...  (Translated by G...         1.553500e+09     \n",
       "1721  https://lh3.goog...  (Translated by G...         1.553500e+09     \n",
       "\n",
       "     owner_answer_timestamp_datetime_utc          review_link review_rating  \\\n",
       "0                     NaN                 https://www.goog...             5   \n",
       "1                     NaN                 https://www.goog...             5   \n",
       "2                     NaN                 https://www.goog...             4   \n",
       "3                     NaN                 https://www.goog...             5   \n",
       "4                     NaN                 https://www.goog...             5   \n",
       "...                   ...                                 ...           ...   \n",
       "1717  03/25/2019 07:56:08                 https://www.goog...             5   \n",
       "1718  03/25/2019 07:53:14                 https://www.goog...             5   \n",
       "1719  03/22/2019 11:27:46                 https://www.goog...             5   \n",
       "1720  03/25/2019 07:51:56                 https://www.goog...             5   \n",
       "1721  03/25/2019 07:46:37                 https://www.goog...             5   \n",
       "\n",
       "     review_timestamp  review_datetime_utc review_likes           reviews_id  \n",
       "0          1661161121  08/22/2022 09:38:41            0 -3366350722704842035  \n",
       "1          1661152489  08/22/2022 07:14:49            1 -3366350722704842035  \n",
       "2          1661120357  08/21/2022 22:19:17            0 -3366350722704842035  \n",
       "3          1661114131  08/21/2022 20:35:31            1 -3366350722704842035  \n",
       "4          1661097601  08/21/2022 16:00:01            1 -3366350722704842035  \n",
       "...               ...                  ...          ...                  ...  \n",
       "1717       1553347909  03/23/2019 13:31:49            3 -3366350722704842035  \n",
       "1718       1553340937  03/23/2019 11:35:37            0 -3366350722704842035  \n",
       "1719       1553250664  03/22/2019 10:31:04            4 -3366350722704842035  \n",
       "1720       1553171051  03/21/2019 12:24:11            4 -3366350722704842035  \n",
       "1721       1552979684  03/19/2019 07:14:44            4 -3366350722704842035  \n",
       "\n",
       "[1722 rows x 25 columns]"
      ]
     },
     "execution_count": 557,
     "metadata": {},
     "output_type": "execute_result"
    }
   ],
   "source": [
    "df"
   ]
  },
  {
   "cell_type": "code",
   "execution_count": 558,
   "id": "da5e2854",
   "metadata": {},
   "outputs": [
    {
     "data": {
      "text/plain": [
       "'{\"1\": 82, \"2\": 49, \"3\": 116, \"4\": 350, \"5\": 1125}'"
      ]
     },
     "execution_count": 558,
     "metadata": {},
     "output_type": "execute_result"
    }
   ],
   "source": [
    "df['reviews_per_score'].iloc[0]"
   ]
  },
  {
   "cell_type": "code",
   "execution_count": 559,
   "id": "d5966a38",
   "metadata": {},
   "outputs": [
    {
     "data": {
      "text/plain": [
       "(1722, 25)"
      ]
     },
     "execution_count": 559,
     "metadata": {},
     "output_type": "execute_result"
    }
   ],
   "source": [
    "df.shape"
   ]
  },
  {
   "cell_type": "code",
   "execution_count": 560,
   "id": "5b1646d6",
   "metadata": {},
   "outputs": [
    {
     "data": {
      "text/plain": [
       "Index(['query', 'name', 'google_id', 'place_id', 'location_link',\n",
       "       'reviews_link', 'reviews_per_score', 'reviews', 'rating', 'review_id',\n",
       "       'author_link', 'author_title', 'author_id', 'author_image',\n",
       "       'review_text', 'review_img_url', 'owner_answer',\n",
       "       'owner_answer_timestamp', 'owner_answer_timestamp_datetime_utc',\n",
       "       'review_link', 'review_rating', 'review_timestamp',\n",
       "       'review_datetime_utc', 'review_likes', 'reviews_id'],\n",
       "      dtype='object')"
      ]
     },
     "execution_count": 560,
     "metadata": {},
     "output_type": "execute_result"
    }
   ],
   "source": [
    "df.columns"
   ]
  },
  {
   "cell_type": "code",
   "execution_count": 561,
   "id": "cf339115",
   "metadata": {},
   "outputs": [],
   "source": [
    "df.drop(['query', 'name', 'google_id', 'place_id', 'location_link',\n",
    "       'reviews_link', 'reviews_per_score', 'reviews','rating','review_id',\n",
    "       'author_link','author_image','author_id','review_img_url',\n",
    "       'review_link','reviews_id'],axis=1,inplace=True)"
   ]
  },
  {
   "cell_type": "code",
   "execution_count": 562,
   "id": "71132788",
   "metadata": {},
   "outputs": [
    {
     "data": {
      "text/html": [
       "<div>\n",
       "<style scoped>\n",
       "    .dataframe tbody tr th:only-of-type {\n",
       "        vertical-align: middle;\n",
       "    }\n",
       "\n",
       "    .dataframe tbody tr th {\n",
       "        vertical-align: top;\n",
       "    }\n",
       "\n",
       "    .dataframe thead th {\n",
       "        text-align: right;\n",
       "    }\n",
       "</style>\n",
       "<table border=\"1\" class=\"dataframe\">\n",
       "  <thead>\n",
       "    <tr style=\"text-align: right;\">\n",
       "      <th></th>\n",
       "      <th>author_title</th>\n",
       "      <th>review_text</th>\n",
       "      <th>owner_answer</th>\n",
       "      <th>owner_answer_timestamp</th>\n",
       "      <th>owner_answer_timestamp_datetime_utc</th>\n",
       "      <th>review_rating</th>\n",
       "      <th>review_timestamp</th>\n",
       "      <th>review_datetime_utc</th>\n",
       "      <th>review_likes</th>\n",
       "    </tr>\n",
       "  </thead>\n",
       "  <tbody>\n",
       "    <tr>\n",
       "      <th>1721</th>\n",
       "      <td>J T</td>\n",
       "      <td>(Translated by G...</td>\n",
       "      <td>(Translated by G...</td>\n",
       "      <td>1.553500e+09</td>\n",
       "      <td>03/25/2019 07:46:37</td>\n",
       "      <td>5</td>\n",
       "      <td>1552979684</td>\n",
       "      <td>03/19/2019 07:14:44</td>\n",
       "      <td>4</td>\n",
       "    </tr>\n",
       "    <tr>\n",
       "      <th>1720</th>\n",
       "      <td>Ruben Vaquero</td>\n",
       "      <td>(Translated by G...</td>\n",
       "      <td>(Translated by G...</td>\n",
       "      <td>1.553500e+09</td>\n",
       "      <td>03/25/2019 07:51:56</td>\n",
       "      <td>5</td>\n",
       "      <td>1553171051</td>\n",
       "      <td>03/21/2019 12:24:11</td>\n",
       "      <td>4</td>\n",
       "    </tr>\n",
       "    <tr>\n",
       "      <th>1719</th>\n",
       "      <td>Edu Martinez</td>\n",
       "      <td>(Translated by G...</td>\n",
       "      <td>(Translated by G...</td>\n",
       "      <td>1.553254e+09</td>\n",
       "      <td>03/22/2019 11:27:46</td>\n",
       "      <td>5</td>\n",
       "      <td>1553250664</td>\n",
       "      <td>03/22/2019 10:31:04</td>\n",
       "      <td>4</td>\n",
       "    </tr>\n",
       "  </tbody>\n",
       "</table>\n",
       "</div>"
      ],
      "text/plain": [
       "       author_title          review_text         owner_answer  \\\n",
       "1721            J T  (Translated by G...  (Translated by G...   \n",
       "1720  Ruben Vaquero  (Translated by G...  (Translated by G...   \n",
       "1719   Edu Martinez  (Translated by G...  (Translated by G...   \n",
       "\n",
       "      owner_answer_timestamp owner_answer_timestamp_datetime_utc  \\\n",
       "1721         1.553500e+09     03/25/2019 07:46:37                  \n",
       "1720         1.553500e+09     03/25/2019 07:51:56                  \n",
       "1719         1.553254e+09     03/22/2019 11:27:46                  \n",
       "\n",
       "      review_rating  review_timestamp  review_datetime_utc  review_likes  \n",
       "1721              5        1552979684  03/19/2019 07:14:44             4  \n",
       "1720              5        1553171051  03/21/2019 12:24:11             4  \n",
       "1719              5        1553250664  03/22/2019 10:31:04             4  "
      ]
     },
     "execution_count": 562,
     "metadata": {},
     "output_type": "execute_result"
    }
   ],
   "source": [
    "df[::-1].head(3)"
   ]
  },
  {
   "cell_type": "code",
   "execution_count": 563,
   "id": "9a1055a0",
   "metadata": {},
   "outputs": [
    {
     "data": {
      "text/html": [
       "<div>\n",
       "<style scoped>\n",
       "    .dataframe tbody tr th:only-of-type {\n",
       "        vertical-align: middle;\n",
       "    }\n",
       "\n",
       "    .dataframe tbody tr th {\n",
       "        vertical-align: top;\n",
       "    }\n",
       "\n",
       "    .dataframe thead th {\n",
       "        text-align: right;\n",
       "    }\n",
       "</style>\n",
       "<table border=\"1\" class=\"dataframe\">\n",
       "  <thead>\n",
       "    <tr style=\"text-align: right;\">\n",
       "      <th></th>\n",
       "      <th>owner_answer_timestamp</th>\n",
       "      <th>review_rating</th>\n",
       "      <th>review_timestamp</th>\n",
       "      <th>review_likes</th>\n",
       "    </tr>\n",
       "  </thead>\n",
       "  <tbody>\n",
       "    <tr>\n",
       "      <th>count</th>\n",
       "      <td>5.420000e+02</td>\n",
       "      <td>1722.000000</td>\n",
       "      <td>1.722000e+03</td>\n",
       "      <td>1722.000000</td>\n",
       "    </tr>\n",
       "    <tr>\n",
       "      <th>mean</th>\n",
       "      <td>1.615743e+09</td>\n",
       "      <td>4.386179</td>\n",
       "      <td>1.617665e+09</td>\n",
       "      <td>0.880952</td>\n",
       "    </tr>\n",
       "    <tr>\n",
       "      <th>std</th>\n",
       "      <td>3.587611e+07</td>\n",
       "      <td>1.055736</td>\n",
       "      <td>3.538155e+07</td>\n",
       "      <td>1.036407</td>\n",
       "    </tr>\n",
       "    <tr>\n",
       "      <th>min</th>\n",
       "      <td>1.553254e+09</td>\n",
       "      <td>1.000000</td>\n",
       "      <td>1.552980e+09</td>\n",
       "      <td>0.000000</td>\n",
       "    </tr>\n",
       "    <tr>\n",
       "      <th>25%</th>\n",
       "      <td>1.581081e+09</td>\n",
       "      <td>4.000000</td>\n",
       "      <td>1.579928e+09</td>\n",
       "      <td>0.000000</td>\n",
       "    </tr>\n",
       "    <tr>\n",
       "      <th>50%</th>\n",
       "      <td>1.636883e+09</td>\n",
       "      <td>5.000000</td>\n",
       "      <td>1.631205e+09</td>\n",
       "      <td>1.000000</td>\n",
       "    </tr>\n",
       "    <tr>\n",
       "      <th>75%</th>\n",
       "      <td>1.642868e+09</td>\n",
       "      <td>5.000000</td>\n",
       "      <td>1.648475e+09</td>\n",
       "      <td>1.000000</td>\n",
       "    </tr>\n",
       "    <tr>\n",
       "      <th>max</th>\n",
       "      <td>1.660479e+09</td>\n",
       "      <td>5.000000</td>\n",
       "      <td>1.661161e+09</td>\n",
       "      <td>8.000000</td>\n",
       "    </tr>\n",
       "  </tbody>\n",
       "</table>\n",
       "</div>"
      ],
      "text/plain": [
       "       owner_answer_timestamp  review_rating  review_timestamp  review_likes\n",
       "count         5.420000e+02       1722.000000      1.722000e+03   1722.000000\n",
       "mean          1.615743e+09          4.386179      1.617665e+09      0.880952\n",
       "std           3.587611e+07          1.055736      3.538155e+07      1.036407\n",
       "min           1.553254e+09          1.000000      1.552980e+09      0.000000\n",
       "25%           1.581081e+09          4.000000      1.579928e+09      0.000000\n",
       "50%           1.636883e+09          5.000000      1.631205e+09      1.000000\n",
       "75%           1.642868e+09          5.000000      1.648475e+09      1.000000\n",
       "max           1.660479e+09          5.000000      1.661161e+09      8.000000"
      ]
     },
     "execution_count": 563,
     "metadata": {},
     "output_type": "execute_result"
    }
   ],
   "source": [
    "df.describe()"
   ]
  },
  {
   "cell_type": "code",
   "execution_count": 564,
   "id": "f897720b",
   "metadata": {},
   "outputs": [
    {
     "name": "stdout",
     "output_type": "stream",
     "text": [
      "<class 'pandas.core.frame.DataFrame'>\n",
      "RangeIndex: 1722 entries, 0 to 1721\n",
      "Data columns (total 9 columns):\n",
      " #   Column                               Non-Null Count  Dtype  \n",
      "---  ------                               --------------  -----  \n",
      " 0   author_title                         1722 non-null   object \n",
      " 1   review_text                          1143 non-null   object \n",
      " 2   owner_answer                         542 non-null    object \n",
      " 3   owner_answer_timestamp               542 non-null    float64\n",
      " 4   owner_answer_timestamp_datetime_utc  542 non-null    object \n",
      " 5   review_rating                        1722 non-null   int64  \n",
      " 6   review_timestamp                     1722 non-null   int64  \n",
      " 7   review_datetime_utc                  1722 non-null   object \n",
      " 8   review_likes                         1722 non-null   int64  \n",
      "dtypes: float64(1), int64(3), object(5)\n",
      "memory usage: 121.2+ KB\n"
     ]
    }
   ],
   "source": [
    "df.info()"
   ]
  },
  {
   "cell_type": "code",
   "execution_count": 565,
   "id": "2e98c95f",
   "metadata": {},
   "outputs": [
    {
     "data": {
      "text/plain": [
       "author_title                              0\n",
       "review_text                             579\n",
       "owner_answer                           1180\n",
       "owner_answer_timestamp                 1180\n",
       "owner_answer_timestamp_datetime_utc    1180\n",
       "review_rating                             0\n",
       "review_timestamp                          0\n",
       "review_datetime_utc                       0\n",
       "review_likes                              0\n",
       "dtype: int64"
      ]
     },
     "execution_count": 565,
     "metadata": {},
     "output_type": "execute_result"
    }
   ],
   "source": [
    "df.isna().sum()"
   ]
  },
  {
   "cell_type": "code",
   "execution_count": 566,
   "id": "b3faf49c",
   "metadata": {},
   "outputs": [],
   "source": [
    "#df[df['owner_answer'].notna()].head()"
   ]
  },
  {
   "cell_type": "code",
   "execution_count": 567,
   "id": "9666515f",
   "metadata": {},
   "outputs": [
    {
     "name": "stdout",
     "output_type": "stream",
     "text": [
      "yes    1143\n",
      "no      579\n",
      "Name: text_yn, dtype: int64\n",
      "no     1180\n",
      "yes     542\n",
      "Name: anwser_yn, dtype: int64\n"
     ]
    }
   ],
   "source": [
    "df['text_yn'] = df['review_text'].apply(lambda x: 'no' if x!=x else 'yes')\n",
    "df['anwser_yn'] = df['owner_answer'].apply(lambda x: 'no' if x!=x else 'yes')\n",
    "print(df['text_yn'].value_counts())\n",
    "print(df['anwser_yn'].value_counts())"
   ]
  },
  {
   "cell_type": "code",
   "execution_count": 568,
   "id": "1f713145",
   "metadata": {},
   "outputs": [
    {
     "data": {
      "text/plain": [
       "False    1143\n",
       "Name: review_text, dtype: int64"
      ]
     },
     "execution_count": 568,
     "metadata": {},
     "output_type": "execute_result"
    }
   ],
   "source": [
    "df[df['text_yn']=='yes']['review_text'].isna().value_counts()"
   ]
  },
  {
   "cell_type": "code",
   "execution_count": 569,
   "id": "70e03f93",
   "metadata": {},
   "outputs": [
    {
     "data": {
      "text/html": [
       "<div>\n",
       "<style scoped>\n",
       "    .dataframe tbody tr th:only-of-type {\n",
       "        vertical-align: middle;\n",
       "    }\n",
       "\n",
       "    .dataframe tbody tr th {\n",
       "        vertical-align: top;\n",
       "    }\n",
       "\n",
       "    .dataframe thead th {\n",
       "        text-align: right;\n",
       "    }\n",
       "</style>\n",
       "<table border=\"1\" class=\"dataframe\">\n",
       "  <thead>\n",
       "    <tr style=\"text-align: right;\">\n",
       "      <th></th>\n",
       "      <th>author_title</th>\n",
       "      <th>review_text</th>\n",
       "      <th>owner_answer</th>\n",
       "      <th>owner_answer_timestamp</th>\n",
       "      <th>owner_answer_timestamp_datetime_utc</th>\n",
       "      <th>review_rating</th>\n",
       "      <th>review_timestamp</th>\n",
       "      <th>review_datetime_utc</th>\n",
       "      <th>review_likes</th>\n",
       "      <th>text_yn</th>\n",
       "      <th>anwser_yn</th>\n",
       "    </tr>\n",
       "  </thead>\n",
       "  <tbody>\n",
       "    <tr>\n",
       "      <th>0</th>\n",
       "      <td>Christian Díaz</td>\n",
       "      <td>(Translated by G...</td>\n",
       "      <td>NaN</td>\n",
       "      <td>NaN</td>\n",
       "      <td>NaN</td>\n",
       "      <td>5</td>\n",
       "      <td>1661161121</td>\n",
       "      <td>08/22/2022 09:38:41</td>\n",
       "      <td>0</td>\n",
       "      <td>yes</td>\n",
       "      <td>no</td>\n",
       "    </tr>\n",
       "    <tr>\n",
       "      <th>1</th>\n",
       "      <td>Gabriela Santiana</td>\n",
       "      <td>Delicioso todo.....</td>\n",
       "      <td>NaN</td>\n",
       "      <td>NaN</td>\n",
       "      <td>NaN</td>\n",
       "      <td>5</td>\n",
       "      <td>1661152489</td>\n",
       "      <td>08/22/2022 07:14:49</td>\n",
       "      <td>1</td>\n",
       "      <td>yes</td>\n",
       "      <td>no</td>\n",
       "    </tr>\n",
       "    <tr>\n",
       "      <th>2</th>\n",
       "      <td>Meir Cohen</td>\n",
       "      <td>Great restaurant...</td>\n",
       "      <td>NaN</td>\n",
       "      <td>NaN</td>\n",
       "      <td>NaN</td>\n",
       "      <td>4</td>\n",
       "      <td>1661120357</td>\n",
       "      <td>08/21/2022 22:19:17</td>\n",
       "      <td>0</td>\n",
       "      <td>yes</td>\n",
       "      <td>no</td>\n",
       "    </tr>\n",
       "    <tr>\n",
       "      <th>3</th>\n",
       "      <td>kaka kaka</td>\n",
       "      <td>Está demasiado b...</td>\n",
       "      <td>NaN</td>\n",
       "      <td>NaN</td>\n",
       "      <td>NaN</td>\n",
       "      <td>5</td>\n",
       "      <td>1661114131</td>\n",
       "      <td>08/21/2022 20:35:31</td>\n",
       "      <td>1</td>\n",
       "      <td>yes</td>\n",
       "      <td>no</td>\n",
       "    </tr>\n",
       "    <tr>\n",
       "      <th>4</th>\n",
       "      <td>Alberto Martinez</td>\n",
       "      <td>(Translated by G...</td>\n",
       "      <td>NaN</td>\n",
       "      <td>NaN</td>\n",
       "      <td>NaN</td>\n",
       "      <td>5</td>\n",
       "      <td>1661097601</td>\n",
       "      <td>08/21/2022 16:00:01</td>\n",
       "      <td>1</td>\n",
       "      <td>yes</td>\n",
       "      <td>no</td>\n",
       "    </tr>\n",
       "  </tbody>\n",
       "</table>\n",
       "</div>"
      ],
      "text/plain": [
       "        author_title          review_text owner_answer  \\\n",
       "0     Christian Díaz  (Translated by G...          NaN   \n",
       "1  Gabriela Santiana  Delicioso todo.....          NaN   \n",
       "2         Meir Cohen  Great restaurant...          NaN   \n",
       "3          kaka kaka  Está demasiado b...          NaN   \n",
       "4   Alberto Martinez  (Translated by G...          NaN   \n",
       "\n",
       "   owner_answer_timestamp owner_answer_timestamp_datetime_utc  review_rating  \\\n",
       "0                  NaN                     NaN                             5   \n",
       "1                  NaN                     NaN                             5   \n",
       "2                  NaN                     NaN                             4   \n",
       "3                  NaN                     NaN                             5   \n",
       "4                  NaN                     NaN                             5   \n",
       "\n",
       "   review_timestamp  review_datetime_utc  review_likes text_yn anwser_yn  \n",
       "0        1661161121  08/22/2022 09:38:41             0     yes        no  \n",
       "1        1661152489  08/22/2022 07:14:49             1     yes        no  \n",
       "2        1661120357  08/21/2022 22:19:17             0     yes        no  \n",
       "3        1661114131  08/21/2022 20:35:31             1     yes        no  \n",
       "4        1661097601  08/21/2022 16:00:01             1     yes        no  "
      ]
     },
     "execution_count": 569,
     "metadata": {},
     "output_type": "execute_result"
    }
   ],
   "source": [
    "df.head()"
   ]
  },
  {
   "cell_type": "code",
   "execution_count": 605,
   "id": "d9d94d11",
   "metadata": {},
   "outputs": [
    {
     "data": {
      "image/png": "[encoded data removed]",
      "text/plain": [
       "<Figure size 720x432 with 1 Axes>"
      ]
     },
     "metadata": {
      "needs_background": "light"
     },
     "output_type": "display_data"
    }
   ],
   "source": [
    "plt.figure(figsize=(10,6))\n",
    "fig = sns.barplot(x=df.groupby('review_rating').sum().index,y=df.groupby('review_rating').sum()['review_likes'],palette='coolwarm')\n",
    "fig.set_title('Counts of Reviews per Score', fontsize=12)\n",
    "fig.set_ylabel('Count')\n",
    "fig.set_xlabel('Review Score')\n",
    "plt.savefig('Pics/text_yn.jpg',bbox_inches='tight',dpi=200)\n",
    "plt.savefig('Pics/stars.jpg',bbox_inches='tight',dpi=200)"
   ]
  },
  {
   "cell_type": "code",
   "execution_count": 606,
   "id": "9cd184f2",
   "metadata": {},
   "outputs": [
    {
     "data": {
      "image/png": "[encoded data removed]",
      "text/plain": [
       "<Figure size 576x360 with 1 Axes>"
      ]
     },
     "metadata": {
      "needs_background": "light"
     },
     "output_type": "display_data"
    }
   ],
   "source": [
    "plt.figure(figsize=(8,5))\n",
    "fig = sns.countplot(data=df,x='text_yn',palette=['lightgreen','tomato'])\n",
    "fig.set_title('Review Text yes/no from all Reviews', fontsize=12)\n",
    "fig.set_ylabel('Count')\n",
    "fig.set_xlabel('')\n",
    "plt.savefig('Pics/text_yn.jpg',bbox_inches='tight',dpi=200)\n"
   ]
  },
  {
   "cell_type": "code",
   "execution_count": 607,
   "id": "aa7076c9",
   "metadata": {},
   "outputs": [
    {
     "data": {
      "image/png": "[encoded data removed]",
      "text/plain": [
       "<Figure size 720x432 with 1 Axes>"
      ]
     },
     "metadata": {
      "needs_background": "light"
     },
     "output_type": "display_data"
    }
   ],
   "source": [
    "plt.figure(figsize=(10,6))\n",
    "fig.legend(['Legend'],loc='upper left')\n",
    "fig = sns.countplot(data=df,x='review_rating',hue='text_yn',palette=['lightgreen','tomato'])\n",
    "fig.legend(loc='upper left')\n",
    "fig.set_title('Review Text yes/no per Review Score', fontsize=12)\n",
    "fig.set_xlabel('Review Score')\n",
    "fig.set_ylabel('Count')\n",
    "plt.savefig('Pics/review_rating_text_yn.jpg',bbox_inches='tight',dpi=200)"
   ]
  },
  {
   "cell_type": "code",
   "execution_count": 573,
   "id": "90128d87",
   "metadata": {},
   "outputs": [
    {
     "data": {
      "image/png": "[encoded data removed]",
      "text/plain": [
       "<Figure size 864x576 with 1 Axes>"
      ]
     },
     "metadata": {
      "needs_background": "light"
     },
     "output_type": "display_data"
    }
   ],
   "source": [
    "plt.figure(figsize=(12,8))\n",
    "fig = sns.countplot(data=df,x='review_rating',hue='anwser_yn',palette=['lightgreen','tomato'])\n",
    "fig.legend(loc='upper left')\n",
    "fig.set_title('Owner Answer yes/no per Review Score', fontsize=12)\n",
    "fig.set_xlabel('Review Score')\n",
    "fig.set_ylabel('Count')\n",
    "plt.savefig('Pics/review_rating_answers.jpg',bbox_inches='tight',dpi=200)"
   ]
  },
  {
   "cell_type": "code",
   "execution_count": 574,
   "id": "f06cf922",
   "metadata": {},
   "outputs": [
    {
     "data": {
      "text/plain": [
       "0          0 Likes\n",
       "1       <= 3 Likes\n",
       "2          0 Likes\n",
       "3       <= 3 Likes\n",
       "4       <= 3 Likes\n",
       "           ...    \n",
       "1717    <= 3 Likes\n",
       "1718       0 Likes\n",
       "1719     > 3 Likes\n",
       "1720     > 3 Likes\n",
       "1721     > 3 Likes\n",
       "Name: like_classes, Length: 1722, dtype: object"
      ]
     },
     "execution_count": 574,
     "metadata": {},
     "output_type": "execute_result"
    }
   ],
   "source": [
    "def like_classes(x):\n",
    "    if x == 0: return '0 Likes'\n",
    "    elif x > 0 and x <= 3: return '<= 3 Likes'\n",
    "    else: return '> 3 Likes' \n",
    "\n",
    "df['like_classes'] = df['review_likes'].apply(like_classes)\n",
    "df['like_classes']"
   ]
  },
  {
   "cell_type": "code",
   "execution_count": 575,
   "id": "43a528ff",
   "metadata": {},
   "outputs": [
    {
     "data": {
      "text/plain": [
       "<AxesSubplot:xlabel='review_rating', ylabel='count'>"
      ]
     },
     "execution_count": 575,
     "metadata": {},
     "output_type": "execute_result"
    },
    {
     "data": {
      "image/png": "[encoded data removed]",
      "text/plain": [
       "<Figure size 864x576 with 1 Axes>"
      ]
     },
     "metadata": {
      "needs_background": "light"
     },
     "output_type": "display_data"
    }
   ],
   "source": [
    "plt.figure(figsize=(12,8))\n",
    "sns.countplot(data=df,x='review_rating',hue='like_classes',dodge=False,palette='magma')\n",
    "#plt.savefig('Pics/review_rating_likes.jpg',bbox_inches='tight',dpi=200)"
   ]
  },
  {
   "cell_type": "code",
   "execution_count": 576,
   "id": "ba9af600",
   "metadata": {},
   "outputs": [
    {
     "data": {
      "image/png": "[encoded data removed]",
      "text/plain": [
       "<Figure size 864x576 with 1 Axes>"
      ]
     },
     "metadata": {
      "needs_background": "light"
     },
     "output_type": "display_data"
    }
   ],
   "source": [
    "plt.figure(figsize=(12,8))\n",
    "fig = sns.countplot(data=df,x='review_rating',hue='review_likes',dodge=False,palette='magma')\n",
    "fig.legend(loc='upper left')\n",
    "fig.set_title('Number of Review Likes per Review Score', fontsize=12)\n",
    "fig.set_xlabel('Review Score')\n",
    "fig.set_ylabel('Count')\n",
    "plt.savefig('Pics/review_rating_likes.jpg',bbox_inches='tight',dpi=200)"
   ]
  },
  {
   "cell_type": "code",
   "execution_count": 577,
   "id": "6972a295",
   "metadata": {},
   "outputs": [
    {
     "name": "stdout",
     "output_type": "stream",
     "text": [
      "8\n",
      "793    (Translated by Google) DISASTROUS! There were 8 of us and after waiting 1 hour and a half, they forgot our command. When it finally arrived, half the burgers were cold and inedible, and the bread was breaking (reheated) and we had to send them back. The fries were dry, refried, and oily. In addition, they were wrong in the companions.\\nThe service was relatively friendly, although the Asian-looking waiter hesitated at my friend and was extremely unprofessional.\\n\\nWhoever takes a lot of space, the less he tightens up!!\\n\\n(Original)\\nDESASTROSO! Éramos 8 y después de esperar 1 hora y media, se olvidaron nuestra comanda. Cuando por fín llegó, la mitad de hamburguesas estaban frías e incomibles, y el pan se rompía (recalentado) y las tuvimos que devolver. Las patatas fritas estaban secas, refritas y aceitosas. Además,se equivocaron en los acompañantes.\\nEl servicio fue relativamente simpático, aunque el camarero de aspecto asiático vaciló a mi amigo y fue extremadamente poco profesio...\n",
      "Name: review_text, dtype: object\n"
     ]
    }
   ],
   "source": [
    "max_likes_1 = df[df['review_rating']==1]['review_likes'].max()\n",
    "print(max_likes_1)\n",
    "pd.options.display.max_colwidth = 1000\n",
    "print(df[df['review_likes']==max_likes_1]['review_text'])"
   ]
  },
  {
   "cell_type": "code",
   "execution_count": 578,
   "id": "9824f962",
   "metadata": {},
   "outputs": [
    {
     "name": "stdout",
     "output_type": "stream",
     "text": [
      "7\n",
      "242    (Translated by Google) Impressive quantity and quality of burgers! Undoubtedly one of the best hamburger restaurants in Barcelona.\\nI loved the flavor of the meat , with a touch of grilled meat that was not lost despite the extra ingredients and sauces .\\nIn addition, the size of the hamburgers is enormous, the quality, quantity and price ratio is very good.\\nThe super Cheezy was very good and so that you don't get dirty with all the cheese it has, they give you some gloves to eat it, which is a detail and helps you enjoy it much more.\\nThe service very attentive and fast.\\nThe spacious place, very well decorated and in full truth. In short, everything is perfect.\\n\\n(Original)\\nImpresionante cantidad y calidad de las hamburguesas ! Sin duda una de las mejores hamburgueserías de Barcelona.\\nEl sabor de la carne me encantó , con un toque a brasa que a pesar de los ingredientes extra y las salsas no se perdía .\\nAdemás el tamaño de las hamburguesas es enorme , muy bien la relación ca...\n",
      "289                                  (Translated by Google) INCREDIBLE, 10 out of 10. Everything is spectacular, both in terms of food and service. Exquisite meats, burgers at the perfect point and combos just as good. The very top companions, I highly recommend the mac'n cheese and coleslaw. Nachos with extra pulled pork are also mandatory, apart from the quantities are very generous, I love it. Waiters very friendly, attentive and also with a good sense of humor. All very very very good. To repeat many more times!!\\n\\n(Original)\\nINCREIBLE, 10 de 10. Todo espectacular tanto respesto a la comida como al servicio. Carnes exquisitas, las burgers al punto perfecto y los combos igual de buenos. Los acompañantes muy top, recomiendo muchisimo el mac’n cheese y la coleslaw. Nachos con extra de pulled pork tamb obligatorios, aparte las cantidades son muy generosas, me encanta. Camareros muy amables, atentos y además con buen sentido del humor. Todo muy muy muy bueno. Para repetir muchas más veces!!\n",
      "506                                                                                                                                                                                                          (Translated by Google) I did not have so many expectations because it is in a very touristy area, but the place has surprised us.\\nGood food, the nachos were amazing to share and the plates are full sizes, I think with the 1 plate option you will have more than enough.\\nThe place and bathrooms were clean.\\nThe attention of the staff has been good and the service fast.\\nRecommended we will return.\\n\\n(Original)\\nNo tenía tantas expectativas porque está en una zona muy turística, pero nos ha sorprendido el lugar.\\nBuena comida, los nachos estaban increíbles para compartir y los platos son de tamaños completos, creo que con la opción de 1 plato quedarás más que suficiente.\\nEl lugar y los baños estaban limpios.\\nLa atención del staff ha sido buena y el servicio rápido.\\nRecomendado volveremos.\n",
      "Name: review_text, dtype: object\n"
     ]
    }
   ],
   "source": [
    "max_likes_5 = df[df['review_rating']==5]['review_likes'].max()\n",
    "print(max_likes_5)\n",
    "pd.options.display.max_colwidth = 1000\n",
    "print(df[df['review_likes']==max_likes_5]['review_text'])"
   ]
  },
  {
   "cell_type": "code",
   "execution_count": 579,
   "id": "50c1c218",
   "metadata": {},
   "outputs": [],
   "source": [
    "pd.options.display.max_colwidth = 20"
   ]
  },
  {
   "cell_type": "code",
   "execution_count": 580,
   "id": "3f3616de",
   "metadata": {},
   "outputs": [
    {
     "data": {
      "text/plain": [
       "datetime.datetime(2022, 8, 22, 11, 38, 41)"
      ]
     },
     "execution_count": 580,
     "metadata": {},
     "output_type": "execute_result"
    }
   ],
   "source": [
    "datetime.fromtimestamp(df['review_timestamp'].iloc[0])"
   ]
  },
  {
   "cell_type": "code",
   "execution_count": 581,
   "id": "b2d2a8d6",
   "metadata": {},
   "outputs": [],
   "source": [
    "df['review_datetime_utc'] = df['review_timestamp'].apply(lambda date: datetime.utcfromtimestamp(date))"
   ]
  },
  {
   "cell_type": "code",
   "execution_count": 582,
   "id": "c97c2ec1",
   "metadata": {},
   "outputs": [],
   "source": [
    "df.drop('review_timestamp',axis=1,inplace=True)"
   ]
  },
  {
   "cell_type": "code",
   "execution_count": 583,
   "id": "03d44124",
   "metadata": {},
   "outputs": [
    {
     "data": {
      "text/html": [
       "<div>\n",
       "<style scoped>\n",
       "    .dataframe tbody tr th:only-of-type {\n",
       "        vertical-align: middle;\n",
       "    }\n",
       "\n",
       "    .dataframe tbody tr th {\n",
       "        vertical-align: top;\n",
       "    }\n",
       "\n",
       "    .dataframe thead th {\n",
       "        text-align: right;\n",
       "    }\n",
       "</style>\n",
       "<table border=\"1\" class=\"dataframe\">\n",
       "  <thead>\n",
       "    <tr style=\"text-align: right;\">\n",
       "      <th></th>\n",
       "      <th>author_title</th>\n",
       "      <th>review_text</th>\n",
       "      <th>owner_answer</th>\n",
       "      <th>owner_answer_timestamp</th>\n",
       "      <th>owner_answer_timestamp_datetime_utc</th>\n",
       "      <th>review_rating</th>\n",
       "      <th>review_datetime_utc</th>\n",
       "      <th>review_likes</th>\n",
       "      <th>text_yn</th>\n",
       "      <th>anwser_yn</th>\n",
       "      <th>like_classes</th>\n",
       "    </tr>\n",
       "  </thead>\n",
       "  <tbody>\n",
       "    <tr>\n",
       "      <th>0</th>\n",
       "      <td>Christian Díaz</td>\n",
       "      <td>(Translated by G...</td>\n",
       "      <td>NaN</td>\n",
       "      <td>NaN</td>\n",
       "      <td>NaN</td>\n",
       "      <td>5</td>\n",
       "      <td>2022-08-22 09:38:41</td>\n",
       "      <td>0</td>\n",
       "      <td>yes</td>\n",
       "      <td>no</td>\n",
       "      <td>0 Likes</td>\n",
       "    </tr>\n",
       "    <tr>\n",
       "      <th>1</th>\n",
       "      <td>Gabriela Santiana</td>\n",
       "      <td>Delicioso todo.....</td>\n",
       "      <td>NaN</td>\n",
       "      <td>NaN</td>\n",
       "      <td>NaN</td>\n",
       "      <td>5</td>\n",
       "      <td>2022-08-22 07:14:49</td>\n",
       "      <td>1</td>\n",
       "      <td>yes</td>\n",
       "      <td>no</td>\n",
       "      <td>&lt;= 3 Likes</td>\n",
       "    </tr>\n",
       "    <tr>\n",
       "      <th>2</th>\n",
       "      <td>Meir Cohen</td>\n",
       "      <td>Great restaurant...</td>\n",
       "      <td>NaN</td>\n",
       "      <td>NaN</td>\n",
       "      <td>NaN</td>\n",
       "      <td>4</td>\n",
       "      <td>2022-08-21 22:19:17</td>\n",
       "      <td>0</td>\n",
       "      <td>yes</td>\n",
       "      <td>no</td>\n",
       "      <td>0 Likes</td>\n",
       "    </tr>\n",
       "    <tr>\n",
       "      <th>3</th>\n",
       "      <td>kaka kaka</td>\n",
       "      <td>Está demasiado b...</td>\n",
       "      <td>NaN</td>\n",
       "      <td>NaN</td>\n",
       "      <td>NaN</td>\n",
       "      <td>5</td>\n",
       "      <td>2022-08-21 20:35:31</td>\n",
       "      <td>1</td>\n",
       "      <td>yes</td>\n",
       "      <td>no</td>\n",
       "      <td>&lt;= 3 Likes</td>\n",
       "    </tr>\n",
       "    <tr>\n",
       "      <th>4</th>\n",
       "      <td>Alberto Martinez</td>\n",
       "      <td>(Translated by G...</td>\n",
       "      <td>NaN</td>\n",
       "      <td>NaN</td>\n",
       "      <td>NaN</td>\n",
       "      <td>5</td>\n",
       "      <td>2022-08-21 16:00:01</td>\n",
       "      <td>1</td>\n",
       "      <td>yes</td>\n",
       "      <td>no</td>\n",
       "      <td>&lt;= 3 Likes</td>\n",
       "    </tr>\n",
       "  </tbody>\n",
       "</table>\n",
       "</div>"
      ],
      "text/plain": [
       "        author_title          review_text owner_answer  \\\n",
       "0     Christian Díaz  (Translated by G...          NaN   \n",
       "1  Gabriela Santiana  Delicioso todo.....          NaN   \n",
       "2         Meir Cohen  Great restaurant...          NaN   \n",
       "3          kaka kaka  Está demasiado b...          NaN   \n",
       "4   Alberto Martinez  (Translated by G...          NaN   \n",
       "\n",
       "   owner_answer_timestamp owner_answer_timestamp_datetime_utc  review_rating  \\\n",
       "0                  NaN                     NaN                             5   \n",
       "1                  NaN                     NaN                             5   \n",
       "2                  NaN                     NaN                             4   \n",
       "3                  NaN                     NaN                             5   \n",
       "4                  NaN                     NaN                             5   \n",
       "\n",
       "  review_datetime_utc  review_likes text_yn anwser_yn like_classes  \n",
       "0 2022-08-22 09:38:41             0     yes        no      0 Likes  \n",
       "1 2022-08-22 07:14:49             1     yes        no   <= 3 Likes  \n",
       "2 2022-08-21 22:19:17             0     yes        no      0 Likes  \n",
       "3 2022-08-21 20:35:31             1     yes        no   <= 3 Likes  \n",
       "4 2022-08-21 16:00:01             1     yes        no   <= 3 Likes  "
      ]
     },
     "execution_count": 583,
     "metadata": {},
     "output_type": "execute_result"
    }
   ],
   "source": [
    "df.head()"
   ]
  },
  {
   "cell_type": "code",
   "execution_count": 584,
   "id": "5d1b136c",
   "metadata": {},
   "outputs": [
    {
     "data": {
      "text/plain": [
       "0     9\n",
       "1     7\n",
       "2    22\n",
       "3    20\n",
       "4    16\n",
       "Name: review_hour, dtype: int64"
      ]
     },
     "execution_count": 584,
     "metadata": {},
     "output_type": "execute_result"
    }
   ],
   "source": [
    "df['review_hour'] = df['review_datetime_utc'].apply(lambda x: x.hour)\n",
    "df['review_hour'].head()"
   ]
  },
  {
   "cell_type": "code",
   "execution_count": 585,
   "id": "1f7c1696",
   "metadata": {},
   "outputs": [
    {
     "data": {
      "text/html": [
       "<div>\n",
       "<style scoped>\n",
       "    .dataframe tbody tr th:only-of-type {\n",
       "        vertical-align: middle;\n",
       "    }\n",
       "\n",
       "    .dataframe tbody tr th {\n",
       "        vertical-align: top;\n",
       "    }\n",
       "\n",
       "    .dataframe thead th {\n",
       "        text-align: right;\n",
       "    }\n",
       "</style>\n",
       "<table border=\"1\" class=\"dataframe\">\n",
       "  <thead>\n",
       "    <tr style=\"text-align: right;\">\n",
       "      <th></th>\n",
       "      <th>owner_answer_timestamp</th>\n",
       "      <th>review_rating</th>\n",
       "      <th>review_likes</th>\n",
       "    </tr>\n",
       "    <tr>\n",
       "      <th>review_hour</th>\n",
       "      <th></th>\n",
       "      <th></th>\n",
       "      <th></th>\n",
       "    </tr>\n",
       "  </thead>\n",
       "  <tbody>\n",
       "    <tr>\n",
       "      <th>0</th>\n",
       "      <td>1.603563e+09</td>\n",
       "      <td>4.360000</td>\n",
       "      <td>1.120000</td>\n",
       "    </tr>\n",
       "    <tr>\n",
       "      <th>1</th>\n",
       "      <td>1.624684e+09</td>\n",
       "      <td>4.615385</td>\n",
       "      <td>0.846154</td>\n",
       "    </tr>\n",
       "    <tr>\n",
       "      <th>2</th>\n",
       "      <td>1.652276e+09</td>\n",
       "      <td>4.600000</td>\n",
       "      <td>1.400000</td>\n",
       "    </tr>\n",
       "    <tr>\n",
       "      <th>3</th>\n",
       "      <td>1.635766e+09</td>\n",
       "      <td>4.200000</td>\n",
       "      <td>0.200000</td>\n",
       "    </tr>\n",
       "    <tr>\n",
       "      <th>4</th>\n",
       "      <td>1.644749e+09</td>\n",
       "      <td>4.000000</td>\n",
       "      <td>0.750000</td>\n",
       "    </tr>\n",
       "    <tr>\n",
       "      <th>5</th>\n",
       "      <td>1.631594e+09</td>\n",
       "      <td>4.344828</td>\n",
       "      <td>1.103448</td>\n",
       "    </tr>\n",
       "    <tr>\n",
       "      <th>6</th>\n",
       "      <td>1.614822e+09</td>\n",
       "      <td>4.095238</td>\n",
       "      <td>0.761905</td>\n",
       "    </tr>\n",
       "    <tr>\n",
       "      <th>7</th>\n",
       "      <td>1.602633e+09</td>\n",
       "      <td>4.625000</td>\n",
       "      <td>0.958333</td>\n",
       "    </tr>\n",
       "    <tr>\n",
       "      <th>8</th>\n",
       "      <td>1.619692e+09</td>\n",
       "      <td>4.232143</td>\n",
       "      <td>0.839286</td>\n",
       "    </tr>\n",
       "    <tr>\n",
       "      <th>9</th>\n",
       "      <td>1.614056e+09</td>\n",
       "      <td>4.385542</td>\n",
       "      <td>0.795181</td>\n",
       "    </tr>\n",
       "    <tr>\n",
       "      <th>10</th>\n",
       "      <td>1.627774e+09</td>\n",
       "      <td>4.415385</td>\n",
       "      <td>1.000000</td>\n",
       "    </tr>\n",
       "    <tr>\n",
       "      <th>11</th>\n",
       "      <td>1.610728e+09</td>\n",
       "      <td>4.397260</td>\n",
       "      <td>0.767123</td>\n",
       "    </tr>\n",
       "    <tr>\n",
       "      <th>12</th>\n",
       "      <td>1.606003e+09</td>\n",
       "      <td>4.414894</td>\n",
       "      <td>0.968085</td>\n",
       "    </tr>\n",
       "    <tr>\n",
       "      <th>13</th>\n",
       "      <td>1.611346e+09</td>\n",
       "      <td>4.319672</td>\n",
       "      <td>0.713115</td>\n",
       "    </tr>\n",
       "    <tr>\n",
       "      <th>14</th>\n",
       "      <td>1.618558e+09</td>\n",
       "      <td>4.503759</td>\n",
       "      <td>0.924812</td>\n",
       "    </tr>\n",
       "    <tr>\n",
       "      <th>15</th>\n",
       "      <td>1.617931e+09</td>\n",
       "      <td>4.194690</td>\n",
       "      <td>0.646018</td>\n",
       "    </tr>\n",
       "    <tr>\n",
       "      <th>16</th>\n",
       "      <td>1.624987e+09</td>\n",
       "      <td>4.388235</td>\n",
       "      <td>0.811765</td>\n",
       "    </tr>\n",
       "    <tr>\n",
       "      <th>17</th>\n",
       "      <td>1.599103e+09</td>\n",
       "      <td>4.554217</td>\n",
       "      <td>0.951807</td>\n",
       "    </tr>\n",
       "    <tr>\n",
       "      <th>18</th>\n",
       "      <td>1.616095e+09</td>\n",
       "      <td>4.543210</td>\n",
       "      <td>1.024691</td>\n",
       "    </tr>\n",
       "    <tr>\n",
       "      <th>19</th>\n",
       "      <td>1.617043e+09</td>\n",
       "      <td>4.470588</td>\n",
       "      <td>0.892157</td>\n",
       "    </tr>\n",
       "    <tr>\n",
       "      <th>20</th>\n",
       "      <td>1.604515e+09</td>\n",
       "      <td>4.397059</td>\n",
       "      <td>1.022059</td>\n",
       "    </tr>\n",
       "    <tr>\n",
       "      <th>21</th>\n",
       "      <td>1.614679e+09</td>\n",
       "      <td>4.376471</td>\n",
       "      <td>0.970588</td>\n",
       "    </tr>\n",
       "    <tr>\n",
       "      <th>22</th>\n",
       "      <td>1.630156e+09</td>\n",
       "      <td>4.343750</td>\n",
       "      <td>0.864583</td>\n",
       "    </tr>\n",
       "    <tr>\n",
       "      <th>23</th>\n",
       "      <td>1.626781e+09</td>\n",
       "      <td>4.181818</td>\n",
       "      <td>0.672727</td>\n",
       "    </tr>\n",
       "  </tbody>\n",
       "</table>\n",
       "</div>"
      ],
      "text/plain": [
       "             owner_answer_timestamp  review_rating  review_likes\n",
       "review_hour                                                     \n",
       "0                   1.603563e+09          4.360000      1.120000\n",
       "1                   1.624684e+09          4.615385      0.846154\n",
       "2                   1.652276e+09          4.600000      1.400000\n",
       "3                   1.635766e+09          4.200000      0.200000\n",
       "4                   1.644749e+09          4.000000      0.750000\n",
       "5                   1.631594e+09          4.344828      1.103448\n",
       "6                   1.614822e+09          4.095238      0.761905\n",
       "7                   1.602633e+09          4.625000      0.958333\n",
       "8                   1.619692e+09          4.232143      0.839286\n",
       "9                   1.614056e+09          4.385542      0.795181\n",
       "10                  1.627774e+09          4.415385      1.000000\n",
       "11                  1.610728e+09          4.397260      0.767123\n",
       "12                  1.606003e+09          4.414894      0.968085\n",
       "13                  1.611346e+09          4.319672      0.713115\n",
       "14                  1.618558e+09          4.503759      0.924812\n",
       "15                  1.617931e+09          4.194690      0.646018\n",
       "16                  1.624987e+09          4.388235      0.811765\n",
       "17                  1.599103e+09          4.554217      0.951807\n",
       "18                  1.616095e+09          4.543210      1.024691\n",
       "19                  1.617043e+09          4.470588      0.892157\n",
       "20                  1.604515e+09          4.397059      1.022059\n",
       "21                  1.614679e+09          4.376471      0.970588\n",
       "22                  1.630156e+09          4.343750      0.864583\n",
       "23                  1.626781e+09          4.181818      0.672727"
      ]
     },
     "execution_count": 585,
     "metadata": {},
     "output_type": "execute_result"
    }
   ],
   "source": [
    "df_hours = df.groupby(df['review_hour']).mean()\n",
    "df_hours"
   ]
  },
  {
   "cell_type": "code",
   "execution_count": 586,
   "id": "5a9d4386",
   "metadata": {},
   "outputs": [
    {
     "data": {
      "image/png": "[encoded data removed]",
      "text/plain": [
       "<Figure size 864x576 with 1 Axes>"
      ]
     },
     "metadata": {
      "needs_background": "light"
     },
     "output_type": "display_data"
    }
   ],
   "source": [
    "plt.figure(figsize=(12,8))\n",
    "fig = sns.countplot(data=df,x='review_hour', color='lightskyblue')\n",
    "fig.set_title('Mean Number of Reviews in 24 Hours', fontsize=12)\n",
    "fig.set_xlabel('Review Score')\n",
    "fig.set_ylabel('Count')\n",
    "plt.savefig('Pics/review_hour.jpg',bbox_inches='tight',dpi=200)"
   ]
  },
  {
   "cell_type": "code",
   "execution_count": 608,
   "id": "9d0f9673",
   "metadata": {},
   "outputs": [
    {
     "data": {
      "image/png": "[encoded data removed]",
      "text/plain": [
       "<Figure size 720x432 with 1 Axes>"
      ]
     },
     "metadata": {
      "needs_background": "light"
     },
     "output_type": "display_data"
    }
   ],
   "source": [
    "plt.figure(figsize=(10,6))\n",
    "fig = sns.barplot(x=df_hours.index,y=df_hours['review_rating'],color='hotpink')\n",
    "fig.set_title('Mean Review Score during 24 Hours', fontsize=12)\n",
    "fig.set_xlabel('Review Hour')\n",
    "fig.set_ylabel('Mean Review Score')\n",
    "plt.savefig('Pics/review_rating_hour.jpg',bbox_inches='tight',dpi=200)"
   ]
  },
  {
   "cell_type": "code",
   "execution_count": 588,
   "id": "10fbaf4e",
   "metadata": {},
   "outputs": [
    {
     "data": {
      "text/plain": [
       "0    Monday\n",
       "1    Monday\n",
       "2    Sunday\n",
       "3    Sunday\n",
       "4    Sunday\n",
       "Name: review_weekday, dtype: object"
      ]
     },
     "execution_count": 588,
     "metadata": {},
     "output_type": "execute_result"
    }
   ],
   "source": [
    "df['review_weekday'] = df['review_datetime_utc'].apply(lambda x: x.day_name())\n",
    "df['review_weekday'].head()"
   ]
  },
  {
   "cell_type": "code",
   "execution_count": 609,
   "id": "ac25e1e2",
   "metadata": {},
   "outputs": [
    {
     "data": {
      "image/png": "[encoded data removed]",
      "text/plain": [
       "<Figure size 720x432 with 1 Axes>"
      ]
     },
     "metadata": {
      "needs_background": "light"
     },
     "output_type": "display_data"
    }
   ],
   "source": [
    "plt.figure(figsize=(10,6))\n",
    "sns.countplot(data=df,x='review_weekday', color='khaki',order=\\\n",
    "              ['Monday','Tuesday','Wednesday','Thursday','Friday','Saturday','Sunday'])\n",
    "fig.set_title('Mean Number of Reviews in a Week', fontsize=12)\n",
    "fig.set_xlabel('Review Score')\n",
    "fig.set_ylabel('Count')\n",
    "plt.savefig('Pics/review_weekday.jpg',bbox_inches='tight',dpi=200)"
   ]
  },
  {
   "cell_type": "code",
   "execution_count": 598,
   "id": "5f5ef2af",
   "metadata": {},
   "outputs": [],
   "source": [
    "my_window = 50\n",
    "df['rating_rolling'] = df['review_rating'][::-1].rolling(window=my_window).mean()"
   ]
  },
  {
   "cell_type": "code",
   "execution_count": 599,
   "id": "682ec3f4",
   "metadata": {},
   "outputs": [],
   "source": [
    "df['rating_cum'] = df['review_rating'][::-1].expanding().mean()"
   ]
  },
  {
   "cell_type": "code",
   "execution_count": 600,
   "id": "df322250",
   "metadata": {},
   "outputs": [
    {
     "data": {
      "image/png": "[encoded data removed]",
      "text/plain": [
       "<Figure size 864x576 with 1 Axes>"
      ]
     },
     "metadata": {
      "needs_background": "light"
     },
     "output_type": "display_data"
    }
   ],
   "source": [
    "plt.figure(figsize=(12,8))\n",
    "fig1 = sns.scatterplot(data=df,\\\n",
    "                x='review_datetime_utc',\\\n",
    "                y='rating_rolling',\\\n",
    "                color='red',alpha=0.5,edgecolor='none',\\\n",
    "                label=f'Rolling Mean, {my_window} Reviews Window')\n",
    "fig2 =sns.scatterplot(data=df,\\\n",
    "                x='review_datetime_utc',y='rating_cum',\\\n",
    "                alpha=0.5,edgecolor='none',\\\n",
    "                label=\"Cumulative Mean\")\n",
    "fig1,fig2.set_title('Chronological Sequence of Review Score', fontsize=12)\n",
    "fig1,fig2.set_xlabel('Time')\n",
    "fig1,fig2.set_ylabel('Score')\n",
    "plt.legend()\n",
    "plt.savefig('Pics/time_score.jpg',bbox_inches='tight',dpi=200)"
   ]
  },
  {
   "cell_type": "code",
   "execution_count": 513,
   "id": "927cc085",
   "metadata": {},
   "outputs": [],
   "source": [
    "df['review_time_diff'] = df['review_datetime_utc'].diff()/timedelta(hours=1)*(-1) "
   ]
  },
  {
   "cell_type": "code",
   "execution_count": 514,
   "id": "1bd19e62",
   "metadata": {},
   "outputs": [
    {
     "data": {
      "text/plain": [
       "0             NaN\n",
       "1        2.397778\n",
       "2        8.925556\n",
       "3        1.729444\n",
       "4        4.591667\n",
       "          ...    \n",
       "1717    11.348333\n",
       "1718     1.936667\n",
       "1719    25.075833\n",
       "1720    22.114722\n",
       "1721    53.157500\n",
       "Name: review_time_diff, Length: 1722, dtype: float64"
      ]
     },
     "execution_count": 514,
     "metadata": {},
     "output_type": "execute_result"
    }
   ],
   "source": [
    "df['review_time_diff']"
   ]
  },
  {
   "cell_type": "code",
   "execution_count": 515,
   "id": "a2f17a22",
   "metadata": {},
   "outputs": [
    {
     "data": {
      "text/html": [
       "<div>\n",
       "<style scoped>\n",
       "    .dataframe tbody tr th:only-of-type {\n",
       "        vertical-align: middle;\n",
       "    }\n",
       "\n",
       "    .dataframe tbody tr th {\n",
       "        vertical-align: top;\n",
       "    }\n",
       "\n",
       "    .dataframe thead th {\n",
       "        text-align: right;\n",
       "    }\n",
       "</style>\n",
       "<table border=\"1\" class=\"dataframe\">\n",
       "  <thead>\n",
       "    <tr style=\"text-align: right;\">\n",
       "      <th></th>\n",
       "      <th>author_title</th>\n",
       "      <th>review_text</th>\n",
       "      <th>owner_answer</th>\n",
       "      <th>owner_answer_timestamp</th>\n",
       "      <th>owner_answer_timestamp_datetime_utc</th>\n",
       "      <th>review_rating</th>\n",
       "      <th>review_datetime_utc</th>\n",
       "      <th>review_likes</th>\n",
       "      <th>text_yn</th>\n",
       "      <th>anwser_yn</th>\n",
       "      <th>like_classes</th>\n",
       "      <th>review_hour</th>\n",
       "      <th>review_weekday</th>\n",
       "      <th>rating_rolling</th>\n",
       "      <th>rating_cum</th>\n",
       "      <th>review_time_diff</th>\n",
       "    </tr>\n",
       "  </thead>\n",
       "  <tbody>\n",
       "    <tr>\n",
       "      <th>1171</th>\n",
       "      <td>SERGIO SERGIUSTO</td>\n",
       "      <td>(Translated by G...</td>\n",
       "      <td>NaN</td>\n",
       "      <td>NaN</td>\n",
       "      <td>NaN</td>\n",
       "      <td>4</td>\n",
       "      <td>2020-03-31 11:13:43</td>\n",
       "      <td>0</td>\n",
       "      <td>yes</td>\n",
       "      <td>no</td>\n",
       "      <td>0 Likes</td>\n",
       "      <td>11</td>\n",
       "      <td>Tuesday</td>\n",
       "      <td>4.04</td>\n",
       "      <td>4.328494</td>\n",
       "      <td>2384.173611</td>\n",
       "    </tr>\n",
       "  </tbody>\n",
       "</table>\n",
       "</div>"
      ],
      "text/plain": [
       "          author_title          review_text owner_answer  \\\n",
       "1171  SERGIO SERGIUSTO  (Translated by G...          NaN   \n",
       "\n",
       "      owner_answer_timestamp owner_answer_timestamp_datetime_utc  \\\n",
       "1171                  NaN                     NaN                  \n",
       "\n",
       "      review_rating review_datetime_utc  review_likes text_yn anwser_yn  \\\n",
       "1171              4 2020-03-31 11:13:43             0     yes        no   \n",
       "\n",
       "     like_classes  review_hour review_weekday  rating_rolling  rating_cum  \\\n",
       "1171      0 Likes           11        Tuesday            4.04    4.328494   \n",
       "\n",
       "      review_time_diff  \n",
       "1171       2384.173611  "
      ]
     },
     "execution_count": 515,
     "metadata": {},
     "output_type": "execute_result"
    }
   ],
   "source": [
    "df[df['review_time_diff']==df['review_time_diff'].max()]"
   ]
  },
  {
   "cell_type": "code",
   "execution_count": 516,
   "id": "9d87bf26",
   "metadata": {},
   "outputs": [
    {
     "data": {
      "text/plain": [
       "41"
      ]
     },
     "execution_count": 516,
     "metadata": {},
     "output_type": "execute_result"
    }
   ],
   "source": [
    "delta = relativedelta.relativedelta(df['review_datetime_utc'].iloc[0], df['review_datetime_utc'].iloc[-1])\n",
    "delta = delta.months + delta.years*12\n",
    "delta"
   ]
  },
  {
   "cell_type": "code",
   "execution_count": 517,
   "id": "4ed75a63",
   "metadata": {},
   "outputs": [],
   "source": [
    "def func_delta_month(date):\n",
    "    delta = relativedelta.relativedelta(date, df['review_datetime_utc'].iloc[-1])\n",
    "    delta_month = delta.months + delta.years*12\n",
    "    return delta_month\n",
    "\n",
    "df['review_months'] = df['review_datetime_utc'].apply(func_delta_month)"
   ]
  },
  {
   "cell_type": "code",
   "execution_count": 518,
   "id": "be73c287",
   "metadata": {},
   "outputs": [
    {
     "data": {
      "text/html": [
       "<div>\n",
       "<style scoped>\n",
       "    .dataframe tbody tr th:only-of-type {\n",
       "        vertical-align: middle;\n",
       "    }\n",
       "\n",
       "    .dataframe tbody tr th {\n",
       "        vertical-align: top;\n",
       "    }\n",
       "\n",
       "    .dataframe thead th {\n",
       "        text-align: right;\n",
       "    }\n",
       "</style>\n",
       "<table border=\"1\" class=\"dataframe\">\n",
       "  <thead>\n",
       "    <tr style=\"text-align: right;\">\n",
       "      <th></th>\n",
       "      <th>author_title</th>\n",
       "      <th>review_text</th>\n",
       "      <th>owner_answer</th>\n",
       "      <th>owner_answer_timestamp</th>\n",
       "      <th>owner_answer_timestamp_datetime_utc</th>\n",
       "      <th>review_rating</th>\n",
       "      <th>review_datetime_utc</th>\n",
       "      <th>review_likes</th>\n",
       "      <th>text_yn</th>\n",
       "      <th>anwser_yn</th>\n",
       "      <th>like_classes</th>\n",
       "      <th>review_hour</th>\n",
       "      <th>review_weekday</th>\n",
       "      <th>rating_rolling</th>\n",
       "      <th>rating_cum</th>\n",
       "      <th>review_time_diff</th>\n",
       "      <th>review_months</th>\n",
       "    </tr>\n",
       "  </thead>\n",
       "  <tbody>\n",
       "    <tr>\n",
       "      <th>0</th>\n",
       "      <td>Christian Díaz</td>\n",
       "      <td>(Translated by G...</td>\n",
       "      <td>NaN</td>\n",
       "      <td>NaN</td>\n",
       "      <td>NaN</td>\n",
       "      <td>5</td>\n",
       "      <td>2022-08-22 09:38:41</td>\n",
       "      <td>0</td>\n",
       "      <td>yes</td>\n",
       "      <td>no</td>\n",
       "      <td>0 Likes</td>\n",
       "      <td>9</td>\n",
       "      <td>Monday</td>\n",
       "      <td>4.64</td>\n",
       "      <td>4.386179</td>\n",
       "      <td>NaN</td>\n",
       "      <td>41</td>\n",
       "    </tr>\n",
       "    <tr>\n",
       "      <th>1</th>\n",
       "      <td>Gabriela Santiana</td>\n",
       "      <td>Delicioso todo.....</td>\n",
       "      <td>NaN</td>\n",
       "      <td>NaN</td>\n",
       "      <td>NaN</td>\n",
       "      <td>5</td>\n",
       "      <td>2022-08-22 07:14:49</td>\n",
       "      <td>1</td>\n",
       "      <td>yes</td>\n",
       "      <td>no</td>\n",
       "      <td>&lt;= 3 Likes</td>\n",
       "      <td>7</td>\n",
       "      <td>Monday</td>\n",
       "      <td>4.64</td>\n",
       "      <td>4.385822</td>\n",
       "      <td>2.397778</td>\n",
       "      <td>41</td>\n",
       "    </tr>\n",
       "    <tr>\n",
       "      <th>2</th>\n",
       "      <td>Meir Cohen</td>\n",
       "      <td>Great restaurant...</td>\n",
       "      <td>NaN</td>\n",
       "      <td>NaN</td>\n",
       "      <td>NaN</td>\n",
       "      <td>4</td>\n",
       "      <td>2022-08-21 22:19:17</td>\n",
       "      <td>0</td>\n",
       "      <td>yes</td>\n",
       "      <td>no</td>\n",
       "      <td>0 Likes</td>\n",
       "      <td>22</td>\n",
       "      <td>Sunday</td>\n",
       "      <td>4.64</td>\n",
       "      <td>4.385465</td>\n",
       "      <td>8.925556</td>\n",
       "      <td>41</td>\n",
       "    </tr>\n",
       "    <tr>\n",
       "      <th>3</th>\n",
       "      <td>kaka kaka</td>\n",
       "      <td>Está demasiado b...</td>\n",
       "      <td>NaN</td>\n",
       "      <td>NaN</td>\n",
       "      <td>NaN</td>\n",
       "      <td>5</td>\n",
       "      <td>2022-08-21 20:35:31</td>\n",
       "      <td>1</td>\n",
       "      <td>yes</td>\n",
       "      <td>no</td>\n",
       "      <td>&lt;= 3 Likes</td>\n",
       "      <td>20</td>\n",
       "      <td>Sunday</td>\n",
       "      <td>4.68</td>\n",
       "      <td>4.385689</td>\n",
       "      <td>1.729444</td>\n",
       "      <td>41</td>\n",
       "    </tr>\n",
       "    <tr>\n",
       "      <th>4</th>\n",
       "      <td>Alberto Martinez</td>\n",
       "      <td>(Translated by G...</td>\n",
       "      <td>NaN</td>\n",
       "      <td>NaN</td>\n",
       "      <td>NaN</td>\n",
       "      <td>5</td>\n",
       "      <td>2022-08-21 16:00:01</td>\n",
       "      <td>1</td>\n",
       "      <td>yes</td>\n",
       "      <td>no</td>\n",
       "      <td>&lt;= 3 Likes</td>\n",
       "      <td>16</td>\n",
       "      <td>Sunday</td>\n",
       "      <td>4.68</td>\n",
       "      <td>4.385332</td>\n",
       "      <td>4.591667</td>\n",
       "      <td>41</td>\n",
       "    </tr>\n",
       "  </tbody>\n",
       "</table>\n",
       "</div>"
      ],
      "text/plain": [
       "        author_title          review_text owner_answer  \\\n",
       "0     Christian Díaz  (Translated by G...          NaN   \n",
       "1  Gabriela Santiana  Delicioso todo.....          NaN   \n",
       "2         Meir Cohen  Great restaurant...          NaN   \n",
       "3          kaka kaka  Está demasiado b...          NaN   \n",
       "4   Alberto Martinez  (Translated by G...          NaN   \n",
       "\n",
       "   owner_answer_timestamp owner_answer_timestamp_datetime_utc  review_rating  \\\n",
       "0                  NaN                     NaN                             5   \n",
       "1                  NaN                     NaN                             5   \n",
       "2                  NaN                     NaN                             4   \n",
       "3                  NaN                     NaN                             5   \n",
       "4                  NaN                     NaN                             5   \n",
       "\n",
       "  review_datetime_utc  review_likes text_yn anwser_yn like_classes  \\\n",
       "0 2022-08-22 09:38:41             0     yes        no      0 Likes   \n",
       "1 2022-08-22 07:14:49             1     yes        no   <= 3 Likes   \n",
       "2 2022-08-21 22:19:17             0     yes        no      0 Likes   \n",
       "3 2022-08-21 20:35:31             1     yes        no   <= 3 Likes   \n",
       "4 2022-08-21 16:00:01             1     yes        no   <= 3 Likes   \n",
       "\n",
       "   review_hour review_weekday  rating_rolling  rating_cum  review_time_diff  \\\n",
       "0            9         Monday            4.64    4.386179               NaN   \n",
       "1            7         Monday            4.64    4.385822          2.397778   \n",
       "2           22         Sunday            4.64    4.385465          8.925556   \n",
       "3           20         Sunday            4.68    4.385689          1.729444   \n",
       "4           16         Sunday            4.68    4.385332          4.591667   \n",
       "\n",
       "   review_months  \n",
       "0             41  \n",
       "1             41  \n",
       "2             41  \n",
       "3             41  \n",
       "4             41  "
      ]
     },
     "execution_count": 518,
     "metadata": {},
     "output_type": "execute_result"
    }
   ],
   "source": [
    "df.head()"
   ]
  },
  {
   "cell_type": "code",
   "execution_count": 519,
   "id": "766c0f8c",
   "metadata": {},
   "outputs": [],
   "source": [
    "rev_months_rating = pd.Series(round(df.groupby('review_months')['review_rating'].mean(),1))"
   ]
  },
  {
   "cell_type": "code",
   "execution_count": 520,
   "id": "1df96d65",
   "metadata": {},
   "outputs": [],
   "source": [
    "rev_months_counts = pd.Series(df.groupby('review_months')['review_rating'].count())"
   ]
  },
  {
   "cell_type": "code",
   "execution_count": 521,
   "id": "981051e9",
   "metadata": {},
   "outputs": [],
   "source": [
    "index = pd.Series(np.arange(0,df.groupby('review_months')['review_rating'].mean().index.max()+1))"
   ]
  },
  {
   "cell_type": "code",
   "execution_count": 522,
   "id": "86f0f874",
   "metadata": {},
   "outputs": [
    {
     "data": {
      "text/html": [
       "<div>\n",
       "<style scoped>\n",
       "    .dataframe tbody tr th:only-of-type {\n",
       "        vertical-align: middle;\n",
       "    }\n",
       "\n",
       "    .dataframe tbody tr th {\n",
       "        vertical-align: top;\n",
       "    }\n",
       "\n",
       "    .dataframe thead th {\n",
       "        text-align: right;\n",
       "    }\n",
       "</style>\n",
       "<table border=\"1\" class=\"dataframe\">\n",
       "  <thead>\n",
       "    <tr style=\"text-align: right;\">\n",
       "      <th></th>\n",
       "      <th>month</th>\n",
       "      <th>rev_months_rating</th>\n",
       "      <th>rev_months_counts</th>\n",
       "    </tr>\n",
       "  </thead>\n",
       "  <tbody>\n",
       "    <tr>\n",
       "      <th>0</th>\n",
       "      <td>0</td>\n",
       "      <td>4.5</td>\n",
       "      <td>31.0</td>\n",
       "    </tr>\n",
       "    <tr>\n",
       "      <th>1</th>\n",
       "      <td>1</td>\n",
       "      <td>4.2</td>\n",
       "      <td>36.0</td>\n",
       "    </tr>\n",
       "    <tr>\n",
       "      <th>2</th>\n",
       "      <td>2</td>\n",
       "      <td>4.3</td>\n",
       "      <td>40.0</td>\n",
       "    </tr>\n",
       "    <tr>\n",
       "      <th>3</th>\n",
       "      <td>3</td>\n",
       "      <td>4.4</td>\n",
       "      <td>41.0</td>\n",
       "    </tr>\n",
       "    <tr>\n",
       "      <th>4</th>\n",
       "      <td>4</td>\n",
       "      <td>4.3</td>\n",
       "      <td>52.0</td>\n",
       "    </tr>\n",
       "  </tbody>\n",
       "</table>\n",
       "</div>"
      ],
      "text/plain": [
       "   month  rev_months_rating  rev_months_counts\n",
       "0      0                4.5               31.0\n",
       "1      1                4.2               36.0\n",
       "2      2                4.3               40.0\n",
       "3      3                4.4               41.0\n",
       "4      4                4.3               52.0"
      ]
     },
     "execution_count": 522,
     "metadata": {},
     "output_type": "execute_result"
    }
   ],
   "source": [
    "df_months = pd.concat([index,rev_months_rating,rev_months_counts],axis=1,keys=['month','rev_months_rating','rev_months_counts'])\n",
    "df_months.set_index(index)\n",
    "df_months.head()"
   ]
  },
  {
   "cell_type": "code",
   "execution_count": 604,
   "id": "8a2db9b7",
   "metadata": {},
   "outputs": [
    {
     "data": {
      "image/png": "[encoded data removed]",
      "text/plain": [
       "<Figure size 864x576 with 1 Axes>"
      ]
     },
     "metadata": {
      "needs_background": "light"
     },
     "output_type": "display_data"
    }
   ],
   "source": [
    "plt.figure(figsize=(12,8))\n",
    "fig = sns.barplot(data=df_months, \\\n",
    "                 x='month', \\\n",
    "                 y='rev_months_counts', \\\n",
    "                 hue='rev_months_rating', \\\n",
    "                 dodge=False, \\\n",
    "                 palette=\"coolwarm\")\n",
    "fig.legend(loc='upper left')\n",
    "fig.set_title('Chronological Sequence of Mean Review Counts and Score per Month', fontsize=12)\n",
    "fig.set_xlabel('Month Count since Begin of Record')\n",
    "fig.set_ylabel('Review Score')\n",
    "plt.savefig('Pics/rating_mean_month.jpg',bbox_inches='tight',dpi=200)"
   ]
  },
  {
   "cell_type": "code",
   "execution_count": null,
   "id": "1eefa33e",
   "metadata": {},
   "outputs": [],
   "source": []
  }
 ],
 "metadata": {
  "kernelspec": {
   "display_name": "Python 3 (ipykernel)",
   "language": "python",
   "name": "python3"
  },
  "language_info": {
   "codemirror_mode": {
    "name": "ipython",
    "version": 3
   },
   "file_extension": ".py",
   "mimetype": "text/x-python",
   "name": "python",
   "nbconvert_exporter": "python",
   "pygments_lexer": "ipython3",
   "version": "3.9.12"
  }
 },
 "nbformat": 4,
 "nbformat_minor": 5
}
